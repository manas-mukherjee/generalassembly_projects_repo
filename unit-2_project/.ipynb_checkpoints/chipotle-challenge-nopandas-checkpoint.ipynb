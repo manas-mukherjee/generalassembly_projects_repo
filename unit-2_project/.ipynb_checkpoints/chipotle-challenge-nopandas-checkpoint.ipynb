{
 "cells": [
  {
   "cell_type": "markdown",
   "metadata": {},
   "source": [
    "<img src=\"http://imgur.com/1ZcRyrc.png\" style=\"float: left; margin: 20px; height: 55px\">\n",
    "\n",
    "# Project 2: Analyzing Chipotle Data\n",
    "\n",
    "_Author: Joseph Nelson (DC)_\n",
    "\n",
    "---"
   ]
  },
  {
   "cell_type": "markdown",
   "metadata": {},
   "source": [
    "For Project 2, you will complete a series of exercises exploring [order data from Chipotle](https://github.com/TheUpshot/chipotle), compliments of _The New York Times'_ \"The Upshot.\"\n",
    "\n",
    "**In these exercises, do not use Pandas!**\n",
    "\n",
    "For these exercises, you will conduct basic exploratory data analysis (without Pandas) to understand the essentials of Chipotle's order data: how many orders are being made, the average price per order, how many different ingredients are used, etc. These allow you to practice business analysis skills while also becoming comfortable with Python."
   ]
  },
  {
   "cell_type": "markdown",
   "metadata": {},
   "source": [
    "---\n",
    "\n",
    "## Basic Level - no Pandas!"
   ]
  },
  {
   "cell_type": "markdown",
   "metadata": {},
   "source": [
    "### Part 1: Read in the file with `csv.reader()` and store it in an object called `file_nested_list`.\n",
    "\n",
    "Hint: This is a TSV (tab-separated value) file, and `csv.reader()` needs to be told [how to handle it](https://docs.python.org/2/library/csv.html)."
   ]
  },
  {
   "cell_type": "code",
   "execution_count": 1,
   "metadata": {},
   "outputs": [],
   "source": [
    "import csv\n",
    "from collections import namedtuple   # Convenient to store the data rows\n",
    "\n",
    "DATA_FILE = './datasets/chipotle.tsv'"
   ]
  },
  {
   "cell_type": "code",
   "execution_count": 7,
   "metadata": {},
   "outputs": [],
   "source": [
    "file_nested_list = list(csv.reader(open(DATA_FILE, 'r'), delimiter='\\t'))"
   ]
  },
  {
   "cell_type": "markdown",
   "metadata": {},
   "source": [
    "### Part 2: Separate `file_nested_list` into the `header` and the `data`.\n"
   ]
  },
  {
   "cell_type": "code",
   "execution_count": 8,
   "metadata": {},
   "outputs": [],
   "source": [
    "file_header = file_nested_list[0]\n",
    "file_data = file_nested_list[1:]"
   ]
  },
  {
   "cell_type": "code",
   "execution_count": 17,
   "metadata": {},
   "outputs": [
    {
     "name": "stdout",
     "output_type": "stream",
     "text": [
      "File header: ['order_id', 'quantity', 'item_name', 'choice_description', 'item_price']\n"
     ]
    }
   ],
   "source": [
    "# Print and verify header data\n",
    "print(\"File header: {}\".format(file_header))"
   ]
  },
  {
   "cell_type": "code",
   "execution_count": 18,
   "metadata": {},
   "outputs": [
    {
     "name": "stdout",
     "output_type": "stream",
     "text": [
      "File data\n",
      "[['1', '1', 'Chips and Fresh Tomato Salsa', 'NULL', '$2.39 ']]\n",
      "[['1', '1', 'Izze', '[Clementine]', '$3.39 ']]\n"
     ]
    }
   ],
   "source": [
    "# Print and verify file data\n",
    "print(\"File data\")\n",
    "print(file_data[:1])\n",
    "print(file_data[1:2])"
   ]
  },
  {
   "cell_type": "markdown",
   "metadata": {},
   "source": [
    "---\n",
    "\n",
    "## Intermediate Level - no Pandas!"
   ]
  },
  {
   "cell_type": "markdown",
   "metadata": {},
   "source": [
    "### Part 3: Calculate the average price of an order.\n",
    "\n",
    "Hint: Examine the data to see if the `quantity` column is relevant to this calculation.\n",
    "\n",
    "Hint: Think carefully about the simplest way to do this!"
   ]
  },
  {
   "cell_type": "code",
   "execution_count": 27,
   "metadata": {},
   "outputs": [
    {
     "name": "stdout",
     "output_type": "stream",
     "text": [
      "6.939\n"
     ]
    }
   ],
   "source": [
    "total_quantity = 0\n",
    "total_price = 0.0\n",
    "\n",
    "for row in file_data:\n",
    "    qty = int(row[1])\n",
    "    price = float(row[4].replace('$',''))\n",
    "    \n",
    "    total_quantity += qty\n",
    "    total_price += price\n",
    "\n",
    "print(round(total_price/total_quantity,3))"
   ]
  },
  {
   "cell_type": "markdown",
   "metadata": {},
   "source": [
    "Avg. price of an order is: 6.939"
   ]
  },
  {
   "cell_type": "markdown",
   "metadata": {},
   "source": [
    "### Part 4: Create a list (or set) named `unique_sodas` containing all of unique sodas and soft drinks that Chipotle sells.\n",
    "\n",
    "Note: Just look for `'Canned Soda'` and `'Canned Soft Drink'`, and ignore other drinks like `'Izze'`."
   ]
  },
  {
   "cell_type": "code",
   "execution_count": 30,
   "metadata": {},
   "outputs": [
    {
     "name": "stdout",
     "output_type": "stream",
     "text": [
      "{'Dr. Pepper', 'Mountain Dew', 'Diet Dr. Pepper', 'Diet Coke', 'Coca Cola', 'Nestea', 'Sprite', 'Lemonade', 'Coke'}\n"
     ]
    }
   ],
   "source": [
    "unique_drinks_set = set()\n",
    "for row in file_data:\n",
    "    item_name = row[2]\n",
    "    \n",
    "    if item_name=='Canned Soda' or item_name=='Canned Soft Drink':\n",
    "        unique_drinks_set.add(row[3].strip(']['))\n",
    "print(unique_drinks_set)"
   ]
  },
  {
   "cell_type": "markdown",
   "metadata": {},
   "source": [
    "---\n",
    "\n",
    "## Advanced Level - no Pandas!"
   ]
  },
  {
   "cell_type": "markdown",
   "metadata": {},
   "source": [
    "### Part 5: Calculate the average number of toppings per burrito.\n",
    "\n",
    "Note: Let's ignore the `quantity` column to simplify this task.\n",
    "\n",
    "Hint: Think carefully about the easiest way to count the number of toppings!\n"
   ]
  },
  {
   "cell_type": "code",
   "execution_count": 96,
   "metadata": {},
   "outputs": [
    {
     "name": "stdout",
     "output_type": "stream",
     "text": [
      "1.13\n"
     ]
    }
   ],
   "source": [
    "burrito_list = []\n",
    "\n",
    "total_topping_count = 0\n",
    "burrito_order_count = 0\n",
    "\n",
    "for row_ind, row in enumerate(file_data):\n",
    "    item_name = row[2]\n",
    "    \n",
    "    if \"Burrito\" in item_name:\n",
    "        burrito_list.append(row)\n",
    "        burrito_order_count += 1\n",
    "        \n",
    "        toppings = row[3].strip('][').split(\"[\")[0][:-2]\n",
    "        \n",
    "        if toppings[-1] == ']':\n",
    "            toppings = toppings[:-1] \n",
    "\n",
    "        topping_count = len(toppings.split(\",\"))\n",
    "        total_topping_count += topping_count\n",
    "        \n",
    "print(round(total_topping_count/burrito_order_count,2))      "
   ]
  },
  {
   "cell_type": "markdown",
   "metadata": {},
   "source": [
    "Average number of burrito is: 1.13"
   ]
  },
  {
   "cell_type": "markdown",
   "metadata": {},
   "source": [
    "### Part 6: Create a dictionary. Let the keys represent chip orders and the values represent the total number of orders.\n",
    "\n",
    "Expected output: `{'Chips and Roasted Chili-Corn Salsa': 18, ... }`\n",
    "\n",
    "Note: Please take the `quantity` column into account!\n",
    "\n",
    "Optional: Learn how to use `.defaultdict()` to simplify your code."
   ]
  },
  {
   "cell_type": "code",
   "execution_count": 80,
   "metadata": {},
   "outputs": [
    {
     "name": "stdout",
     "output_type": "stream",
     "text": [
      "{'Chips and Fresh Tomato Salsa': 130, 'Chips and Tomatillo-Green Chili Salsa': 33, 'Side of Chips': 110, 'Chips and Guacamole': 506, 'Chips and Tomatillo Green Chili Salsa': 45, 'Chips': 230, 'Chips and Tomatillo Red Chili Salsa': 50, 'Chips and Roasted Chili-Corn Salsa': 18, 'Chips and Roasted Chili Corn Salsa': 23, 'Chips and Tomatillo-Red Chili Salsa': 25, 'Chips and Mild Fresh Tomato Salsa': 1}\n"
     ]
    }
   ],
   "source": [
    "item_to_qty_dict = dict()\n",
    "\n",
    "for row_ind, row_data in enumerate(file_data):\n",
    "    #print(row_data)\n",
    "    \n",
    "    item_name = row_data[2]\n",
    "    item_qty = int(row_data[1])\n",
    "    \n",
    "    if \"Chips\" in item_name:\n",
    "        if item_name in item_to_qty_dict:\n",
    "            item_to_qty_dict[item_name] += item_qty\n",
    "        else:\n",
    "            item_to_qty_dict[item_name] = 1\n",
    "    \n",
    "print(item_to_qty_dict)"
   ]
  },
  {
   "cell_type": "markdown",
   "metadata": {},
   "source": [
    "---\n",
    "\n",
    "## Bonus: Craft a problem statement about this data that interests you, and then answer it!\n"
   ]
  },
  {
   "cell_type": "markdown",
   "metadata": {
    "collapsed": true
   },
   "source": [
    "Find average sales per order"
   ]
  },
  {
   "cell_type": "code",
   "execution_count": 87,
   "metadata": {},
   "outputs": [
    {
     "data": {
      "text/plain": [
       "34500.16"
      ]
     },
     "execution_count": 87,
     "metadata": {},
     "output_type": "execute_result"
    }
   ],
   "source": [
    "# Total sales\n",
    "total_sales = round(sum([float(row[4].replace('$','')) for row in file_data]),2)\n",
    "total_sales"
   ]
  },
  {
   "cell_type": "code",
   "execution_count": 93,
   "metadata": {},
   "outputs": [
    {
     "data": {
      "text/plain": [
       "1834"
      ]
     },
     "execution_count": 93,
     "metadata": {},
     "output_type": "execute_result"
    }
   ],
   "source": [
    "# Number of orders\n",
    "order_count = len(set([row[0] for row in file_data]))\n",
    "order_count"
   ]
  },
  {
   "cell_type": "code",
   "execution_count": 95,
   "metadata": {},
   "outputs": [
    {
     "data": {
      "text/plain": [
       "18.81"
      ]
     },
     "execution_count": 95,
     "metadata": {},
     "output_type": "execute_result"
    }
   ],
   "source": [
    "avg_sales_per_order = round(total_sales/order_count,2)\n",
    "avg_sales_per_order"
   ]
  },
  {
   "cell_type": "markdown",
   "metadata": {},
   "source": [
    "Average sales per order is: $18.81"
   ]
  }
 ],
 "metadata": {
  "anaconda-cloud": {},
  "kernelspec": {
   "display_name": "Python 3",
   "language": "python",
   "name": "python3"
  },
  "language_info": {
   "codemirror_mode": {
    "name": "ipython",
    "version": 3
   },
   "file_extension": ".py",
   "mimetype": "text/x-python",
   "name": "python",
   "nbconvert_exporter": "python",
   "pygments_lexer": "ipython3",
   "version": "3.7.3"
  }
 },
 "nbformat": 4,
 "nbformat_minor": 2
}
