{
 "cells": [
  {
   "cell_type": "markdown",
   "metadata": {},
   "source": [
    "<img src=\"http://imgur.com/1ZcRyrc.png\" style=\"float: left; margin: 20px; height: 55px\">\n",
    "\n",
    "# Project 3: Linear Regression and KNN - Train/Test Split\n",
    "\n",
    "---"
   ]
  },
  {
   "cell_type": "markdown",
   "metadata": {},
   "source": [
    "# Introduction\n",
    "\n",
    "We've discussed overfitting in the context of bias and variance, and we've touched on some techniques, such as regularization, that are used to avoid overfitting (but haven't practiced them yet). In this lesson we'll discuss a fundamental method for avoiding overfitting that is commonly referred to as _train/test split_ validation. \n",
    "\n",
    "The idea is similar to something called \"cross-validation\" — in fact, it is a type of cross-validation — in that we split the data set into two subsets:\n",
    "* A subset on which to train our model.\n",
    "* A subset on which to test our model's predictions.\n",
    "\n",
    "This serves two useful purposes:\n",
    "* We prevent overfitting by not using all of the data.\n",
    "* We have some remaining data we can use to evaluate our model.\n",
    "\n",
    "While this may seem like a relatively simple idea, **there are some caveats** to putting it into practice. For example, if you are not careful, it is easy to take a non-random split. Suppose we have salary data on technical professionals that is composed of 80 percent data from California and 20 percent data from elsewhere and is sorted by state. If we split our data into 80 percent training data and 20 percent testing data, we might inadvertantly select all the California data to train and all the non-California data to test. In this case we've still overfit on our data set because we did not sufficiently randomize the data.\n",
    "\n",
    "In a situation like this we can use _k-fold cross-validation_, which is the same idea applied to more than two subsets. In particular, we partition our data into $k$ subsets and train on $k-1$ one of them, holding the last slice for testing. We can do this for each of the possible $k-1$ subsets."
   ]
  },
  {
   "cell_type": "markdown",
   "metadata": {},
   "source": [
    "# Independent Practice\n",
    "\n",
    "Ultimately we use a test-training split to compare multiple models on the same data set. This could be comparisons of two linear models or of completely different models on the same data.\n",
    "\n",
    "For your independent practice, fit three different models on the Boston housing data. For example, you could pick three different subsets of variables, one or more polynomial models, or any other model you'd like. \n",
    "\n",
    "### Here's What We Will Be Doing:\n",
    "\n",
    "* Working with Boston housing data to predict the value of a home\n",
    "* Create a test-train split of the data.\n",
    "* Train each of your models on the training data.\n",
    "* Evaluate each of the models on the test data.\n",
    "* Rank the models by how well they score on the testing data set.\n",
    "\n",
    "**Then, try k-folds.**\n",
    "\n",
    "* Try a few different splits of data for the same models.\n",
    "* Perform a k-fold cross-validation and use the cross-validation scores to compare your models. Did this change your rankings?\n",
    "\n",
    "**Be sure to provide interpretation for your results.**"
   ]
  },
  {
   "cell_type": "markdown",
   "metadata": {},
   "source": [
    "Recall that k-fold cross-validation creates a hold portion of your data set for each iteration of training and validating:\n",
    "\n",
    "![](http://i.imgur.com/0PFrPXJ.png)"
   ]
  },
  {
   "cell_type": "markdown",
   "metadata": {},
   "source": [
    "## Linear Regression Use Case\n",
    "\n",
    "In this given task, you will be asked to model the median home price of various houses across U.S. Census tracts in the city of Boston. This is a probable use case: We are predicting a continuous, numeric output (price) based on a combination of discrete features."
   ]
  },
  {
   "cell_type": "code",
   "execution_count": 1,
   "metadata": {
    "collapsed": true
   },
   "outputs": [],
   "source": [
    "import matplotlib.pyplot as plt\n",
    "\n",
    "%matplotlib inline"
   ]
  },
  {
   "cell_type": "code",
   "execution_count": 2,
   "metadata": {},
   "outputs": [
    {
     "name": "stdout",
     "output_type": "stream",
     "text": [
      "Boston House Prices dataset\n",
      "===========================\n",
      "\n",
      "Notes\n",
      "------\n",
      "Data Set Characteristics:  \n",
      "\n",
      "    :Number of Instances: 506 \n",
      "\n",
      "    :Number of Attributes: 13 numeric/categorical predictive\n",
      "    \n",
      "    :Median Value (attribute 14) is usually the target\n",
      "\n",
      "    :Attribute Information (in order):\n",
      "        - CRIM     per capita crime rate by town\n",
      "        - ZN       proportion of residential land zoned for lots over 25,000 sq.ft.\n",
      "        - INDUS    proportion of non-retail business acres per town\n",
      "        - CHAS     Charles River dummy variable (= 1 if tract bounds river; 0 otherwise)\n",
      "        - NOX      nitric oxides concentration (parts per 10 million)\n",
      "        - RM       average number of rooms per dwelling\n",
      "        - AGE      proportion of owner-occupied units built prior to 1940\n",
      "        - DIS      weighted distances to five Boston employment centres\n",
      "        - RAD      index of accessibility to radial highways\n",
      "        - TAX      full-value property-tax rate per $10,000\n",
      "        - PTRATIO  pupil-teacher ratio by town\n",
      "        - B        1000(Bk - 0.63)^2 where Bk is the proportion of blacks by town\n",
      "        - LSTAT    % lower status of the population\n",
      "        - MEDV     Median value of owner-occupied homes in $1000's\n",
      "\n",
      "    :Missing Attribute Values: None\n",
      "\n",
      "    :Creator: Harrison, D. and Rubinfeld, D.L.\n",
      "\n",
      "This is a copy of UCI ML housing dataset.\n",
      "http://archive.ics.uci.edu/ml/datasets/Housing\n",
      "\n",
      "\n",
      "This dataset was taken from the StatLib library which is maintained at Carnegie Mellon University.\n",
      "\n",
      "The Boston house-price data of Harrison, D. and Rubinfeld, D.L. 'Hedonic\n",
      "prices and the demand for clean air', J. Environ. Economics & Management,\n",
      "vol.5, 81-102, 1978.   Used in Belsley, Kuh & Welsch, 'Regression diagnostics\n",
      "...', Wiley, 1980.   N.B. Various transformations are used in the table on\n",
      "pages 244-261 of the latter.\n",
      "\n",
      "The Boston house-price data has been used in many machine learning papers that address regression\n",
      "problems.   \n",
      "     \n",
      "**References**\n",
      "\n",
      "   - Belsley, Kuh & Welsch, 'Regression diagnostics: Identifying Influential Data and Sources of Collinearity', Wiley, 1980. 244-261.\n",
      "   - Quinlan,R. (1993). Combining Instance-Based and Model-Based Learning. In Proceedings on the Tenth International Conference of Machine Learning, 236-243, University of Massachusetts, Amherst. Morgan Kaufmann.\n",
      "   - many more! (see http://archive.ics.uci.edu/ml/datasets/Housing)\n",
      "\n"
     ]
    }
   ],
   "source": [
    "import pandas as pd\n",
    "import numpy as np\n",
    "from sklearn.datasets import load_boston\n",
    "\n",
    "boston = load_boston()\n",
    "\n",
    "X = pd.DataFrame(boston.data,\n",
    "                 columns=boston.feature_names)\n",
    "y = pd.DataFrame(boston.target,\n",
    "                 columns=['MEDV'])\n",
    "\n",
    "print(boston['DESCR'])"
   ]
  },
  {
   "cell_type": "markdown",
   "metadata": {},
   "source": [
    "### 1. Clean Up Data and Perform Exporatory Data Analysis"
   ]
  },
  {
   "cell_type": "markdown",
   "metadata": {
    "collapsed": true
   },
   "source": [
    "Boston data is from scikit-learn, so it ought to be pretty clean, but we should always perform exploratory data analysis."
   ]
  },
  {
   "cell_type": "code",
   "execution_count": 3,
   "metadata": {
    "collapsed": true
   },
   "outputs": [],
   "source": [
    "# Exploratory data analysis.\n",
    "\n",
    "# Include: total nulls, index, data types, shape, summary statistics, and the number of unique values for each column"
   ]
  },
  {
   "cell_type": "code",
   "execution_count": 4,
   "metadata": {},
   "outputs": [
    {
     "name": "stdout",
     "output_type": "stream",
     "text": [
      "Shape: (506, 13)\n"
     ]
    },
    {
     "data": {
      "text/html": [
       "<div>\n",
       "<style>\n",
       "    .dataframe thead tr:only-child th {\n",
       "        text-align: right;\n",
       "    }\n",
       "\n",
       "    .dataframe thead th {\n",
       "        text-align: left;\n",
       "    }\n",
       "\n",
       "    .dataframe tbody tr th {\n",
       "        vertical-align: top;\n",
       "    }\n",
       "</style>\n",
       "<table border=\"1\" class=\"dataframe\">\n",
       "  <thead>\n",
       "    <tr style=\"text-align: right;\">\n",
       "      <th></th>\n",
       "      <th>CRIM</th>\n",
       "      <th>ZN</th>\n",
       "      <th>INDUS</th>\n",
       "      <th>CHAS</th>\n",
       "      <th>NOX</th>\n",
       "      <th>RM</th>\n",
       "      <th>AGE</th>\n",
       "      <th>DIS</th>\n",
       "      <th>RAD</th>\n",
       "      <th>TAX</th>\n",
       "      <th>PTRATIO</th>\n",
       "      <th>B</th>\n",
       "      <th>LSTAT</th>\n",
       "    </tr>\n",
       "  </thead>\n",
       "  <tbody>\n",
       "    <tr>\n",
       "      <th>33</th>\n",
       "      <td>1.15172</td>\n",
       "      <td>0.0</td>\n",
       "      <td>8.14</td>\n",
       "      <td>0.0</td>\n",
       "      <td>0.538</td>\n",
       "      <td>5.701</td>\n",
       "      <td>95.0</td>\n",
       "      <td>3.7872</td>\n",
       "      <td>4.0</td>\n",
       "      <td>307.0</td>\n",
       "      <td>21.0</td>\n",
       "      <td>358.77</td>\n",
       "      <td>18.35</td>\n",
       "    </tr>\n",
       "    <tr>\n",
       "      <th>219</th>\n",
       "      <td>0.11425</td>\n",
       "      <td>0.0</td>\n",
       "      <td>13.89</td>\n",
       "      <td>1.0</td>\n",
       "      <td>0.550</td>\n",
       "      <td>6.373</td>\n",
       "      <td>92.4</td>\n",
       "      <td>3.3633</td>\n",
       "      <td>5.0</td>\n",
       "      <td>276.0</td>\n",
       "      <td>16.4</td>\n",
       "      <td>393.74</td>\n",
       "      <td>10.50</td>\n",
       "    </tr>\n",
       "    <tr>\n",
       "      <th>306</th>\n",
       "      <td>0.07503</td>\n",
       "      <td>33.0</td>\n",
       "      <td>2.18</td>\n",
       "      <td>0.0</td>\n",
       "      <td>0.472</td>\n",
       "      <td>7.420</td>\n",
       "      <td>71.9</td>\n",
       "      <td>3.0992</td>\n",
       "      <td>7.0</td>\n",
       "      <td>222.0</td>\n",
       "      <td>18.4</td>\n",
       "      <td>396.90</td>\n",
       "      <td>6.47</td>\n",
       "    </tr>\n",
       "  </tbody>\n",
       "</table>\n",
       "</div>"
      ],
      "text/plain": [
       "        CRIM    ZN  INDUS  CHAS    NOX     RM   AGE     DIS  RAD    TAX  \\\n",
       "33   1.15172   0.0   8.14   0.0  0.538  5.701  95.0  3.7872  4.0  307.0   \n",
       "219  0.11425   0.0  13.89   1.0  0.550  6.373  92.4  3.3633  5.0  276.0   \n",
       "306  0.07503  33.0   2.18   0.0  0.472  7.420  71.9  3.0992  7.0  222.0   \n",
       "\n",
       "     PTRATIO       B  LSTAT  \n",
       "33      21.0  358.77  18.35  \n",
       "219     16.4  393.74  10.50  \n",
       "306     18.4  396.90   6.47  "
      ]
     },
     "execution_count": 4,
     "metadata": {},
     "output_type": "execute_result"
    }
   ],
   "source": [
    "# Data sample\n",
    "print(\"Shape: {}\".format(X.shape))\n",
    "X.sample(3)"
   ]
  },
  {
   "cell_type": "code",
   "execution_count": 5,
   "metadata": {},
   "outputs": [
    {
     "data": {
      "text/html": [
       "<div>\n",
       "<style>\n",
       "    .dataframe thead tr:only-child th {\n",
       "        text-align: right;\n",
       "    }\n",
       "\n",
       "    .dataframe thead th {\n",
       "        text-align: left;\n",
       "    }\n",
       "\n",
       "    .dataframe tbody tr th {\n",
       "        vertical-align: top;\n",
       "    }\n",
       "</style>\n",
       "<table border=\"1\" class=\"dataframe\">\n",
       "  <thead>\n",
       "    <tr style=\"text-align: right;\">\n",
       "      <th></th>\n",
       "      <th>CRIM</th>\n",
       "      <th>ZN</th>\n",
       "      <th>INDUS</th>\n",
       "      <th>CHAS</th>\n",
       "      <th>NOX</th>\n",
       "      <th>RM</th>\n",
       "      <th>AGE</th>\n",
       "      <th>DIS</th>\n",
       "      <th>RAD</th>\n",
       "      <th>TAX</th>\n",
       "      <th>PTRATIO</th>\n",
       "      <th>B</th>\n",
       "      <th>LSTAT</th>\n",
       "    </tr>\n",
       "  </thead>\n",
       "  <tbody>\n",
       "    <tr>\n",
       "      <th>count</th>\n",
       "      <td>506.000000</td>\n",
       "      <td>506.000000</td>\n",
       "      <td>506.000000</td>\n",
       "      <td>506.000000</td>\n",
       "      <td>506.000000</td>\n",
       "      <td>506.000000</td>\n",
       "      <td>506.000000</td>\n",
       "      <td>506.000000</td>\n",
       "      <td>506.000000</td>\n",
       "      <td>506.000000</td>\n",
       "      <td>506.000000</td>\n",
       "      <td>506.000000</td>\n",
       "      <td>506.000000</td>\n",
       "    </tr>\n",
       "    <tr>\n",
       "      <th>mean</th>\n",
       "      <td>3.593761</td>\n",
       "      <td>11.363636</td>\n",
       "      <td>11.136779</td>\n",
       "      <td>0.069170</td>\n",
       "      <td>0.554695</td>\n",
       "      <td>6.284634</td>\n",
       "      <td>68.574901</td>\n",
       "      <td>3.795043</td>\n",
       "      <td>9.549407</td>\n",
       "      <td>408.237154</td>\n",
       "      <td>18.455534</td>\n",
       "      <td>356.674032</td>\n",
       "      <td>12.653063</td>\n",
       "    </tr>\n",
       "    <tr>\n",
       "      <th>std</th>\n",
       "      <td>8.596783</td>\n",
       "      <td>23.322453</td>\n",
       "      <td>6.860353</td>\n",
       "      <td>0.253994</td>\n",
       "      <td>0.115878</td>\n",
       "      <td>0.702617</td>\n",
       "      <td>28.148861</td>\n",
       "      <td>2.105710</td>\n",
       "      <td>8.707259</td>\n",
       "      <td>168.537116</td>\n",
       "      <td>2.164946</td>\n",
       "      <td>91.294864</td>\n",
       "      <td>7.141062</td>\n",
       "    </tr>\n",
       "    <tr>\n",
       "      <th>min</th>\n",
       "      <td>0.006320</td>\n",
       "      <td>0.000000</td>\n",
       "      <td>0.460000</td>\n",
       "      <td>0.000000</td>\n",
       "      <td>0.385000</td>\n",
       "      <td>3.561000</td>\n",
       "      <td>2.900000</td>\n",
       "      <td>1.129600</td>\n",
       "      <td>1.000000</td>\n",
       "      <td>187.000000</td>\n",
       "      <td>12.600000</td>\n",
       "      <td>0.320000</td>\n",
       "      <td>1.730000</td>\n",
       "    </tr>\n",
       "    <tr>\n",
       "      <th>25%</th>\n",
       "      <td>0.082045</td>\n",
       "      <td>0.000000</td>\n",
       "      <td>5.190000</td>\n",
       "      <td>0.000000</td>\n",
       "      <td>0.449000</td>\n",
       "      <td>5.885500</td>\n",
       "      <td>45.025000</td>\n",
       "      <td>2.100175</td>\n",
       "      <td>4.000000</td>\n",
       "      <td>279.000000</td>\n",
       "      <td>17.400000</td>\n",
       "      <td>375.377500</td>\n",
       "      <td>6.950000</td>\n",
       "    </tr>\n",
       "    <tr>\n",
       "      <th>50%</th>\n",
       "      <td>0.256510</td>\n",
       "      <td>0.000000</td>\n",
       "      <td>9.690000</td>\n",
       "      <td>0.000000</td>\n",
       "      <td>0.538000</td>\n",
       "      <td>6.208500</td>\n",
       "      <td>77.500000</td>\n",
       "      <td>3.207450</td>\n",
       "      <td>5.000000</td>\n",
       "      <td>330.000000</td>\n",
       "      <td>19.050000</td>\n",
       "      <td>391.440000</td>\n",
       "      <td>11.360000</td>\n",
       "    </tr>\n",
       "    <tr>\n",
       "      <th>75%</th>\n",
       "      <td>3.647423</td>\n",
       "      <td>12.500000</td>\n",
       "      <td>18.100000</td>\n",
       "      <td>0.000000</td>\n",
       "      <td>0.624000</td>\n",
       "      <td>6.623500</td>\n",
       "      <td>94.075000</td>\n",
       "      <td>5.188425</td>\n",
       "      <td>24.000000</td>\n",
       "      <td>666.000000</td>\n",
       "      <td>20.200000</td>\n",
       "      <td>396.225000</td>\n",
       "      <td>16.955000</td>\n",
       "    </tr>\n",
       "    <tr>\n",
       "      <th>max</th>\n",
       "      <td>88.976200</td>\n",
       "      <td>100.000000</td>\n",
       "      <td>27.740000</td>\n",
       "      <td>1.000000</td>\n",
       "      <td>0.871000</td>\n",
       "      <td>8.780000</td>\n",
       "      <td>100.000000</td>\n",
       "      <td>12.126500</td>\n",
       "      <td>24.000000</td>\n",
       "      <td>711.000000</td>\n",
       "      <td>22.000000</td>\n",
       "      <td>396.900000</td>\n",
       "      <td>37.970000</td>\n",
       "    </tr>\n",
       "  </tbody>\n",
       "</table>\n",
       "</div>"
      ],
      "text/plain": [
       "             CRIM          ZN       INDUS        CHAS         NOX          RM  \\\n",
       "count  506.000000  506.000000  506.000000  506.000000  506.000000  506.000000   \n",
       "mean     3.593761   11.363636   11.136779    0.069170    0.554695    6.284634   \n",
       "std      8.596783   23.322453    6.860353    0.253994    0.115878    0.702617   \n",
       "min      0.006320    0.000000    0.460000    0.000000    0.385000    3.561000   \n",
       "25%      0.082045    0.000000    5.190000    0.000000    0.449000    5.885500   \n",
       "50%      0.256510    0.000000    9.690000    0.000000    0.538000    6.208500   \n",
       "75%      3.647423   12.500000   18.100000    0.000000    0.624000    6.623500   \n",
       "max     88.976200  100.000000   27.740000    1.000000    0.871000    8.780000   \n",
       "\n",
       "              AGE         DIS         RAD         TAX     PTRATIO           B  \\\n",
       "count  506.000000  506.000000  506.000000  506.000000  506.000000  506.000000   \n",
       "mean    68.574901    3.795043    9.549407  408.237154   18.455534  356.674032   \n",
       "std     28.148861    2.105710    8.707259  168.537116    2.164946   91.294864   \n",
       "min      2.900000    1.129600    1.000000  187.000000   12.600000    0.320000   \n",
       "25%     45.025000    2.100175    4.000000  279.000000   17.400000  375.377500   \n",
       "50%     77.500000    3.207450    5.000000  330.000000   19.050000  391.440000   \n",
       "75%     94.075000    5.188425   24.000000  666.000000   20.200000  396.225000   \n",
       "max    100.000000   12.126500   24.000000  711.000000   22.000000  396.900000   \n",
       "\n",
       "            LSTAT  \n",
       "count  506.000000  \n",
       "mean    12.653063  \n",
       "std      7.141062  \n",
       "min      1.730000  \n",
       "25%      6.950000  \n",
       "50%     11.360000  \n",
       "75%     16.955000  \n",
       "max     37.970000  "
      ]
     },
     "execution_count": 5,
     "metadata": {},
     "output_type": "execute_result"
    }
   ],
   "source": [
    "#summary statistics\n",
    "X.describe()"
   ]
  },
  {
   "cell_type": "code",
   "execution_count": 6,
   "metadata": {},
   "outputs": [
    {
     "data": {
      "text/plain": [
       "CRIM       0\n",
       "ZN         0\n",
       "INDUS      0\n",
       "CHAS       0\n",
       "NOX        0\n",
       "RM         0\n",
       "AGE        0\n",
       "DIS        0\n",
       "RAD        0\n",
       "TAX        0\n",
       "PTRATIO    0\n",
       "B          0\n",
       "LSTAT      0\n",
       "dtype: int64"
      ]
     },
     "execution_count": 6,
     "metadata": {},
     "output_type": "execute_result"
    }
   ],
   "source": [
    "# Missing data\n",
    "X.isnull().sum()"
   ]
  },
  {
   "cell_type": "code",
   "execution_count": 7,
   "metadata": {},
   "outputs": [
    {
     "data": {
      "text/plain": [
       "<matplotlib.axes._subplots.AxesSubplot at 0x121d9b588>"
      ]
     },
     "execution_count": 7,
     "metadata": {},
     "output_type": "execute_result"
    },
    {
     "data": {
      "image/png": "[encoded data removed]",
      "text/plain": [
       "<matplotlib.figure.Figure at 0x121d93668>"
      ]
     },
     "metadata": {},
     "output_type": "display_data"
    }
   ],
   "source": [
    "#check for output distribution\n",
    "y.plot.hist()"
   ]
  },
  {
   "cell_type": "code",
   "execution_count": 8,
   "metadata": {},
   "outputs": [
    {
     "data": {
      "text/html": [
       "<div>\n",
       "<style>\n",
       "    .dataframe thead tr:only-child th {\n",
       "        text-align: right;\n",
       "    }\n",
       "\n",
       "    .dataframe thead th {\n",
       "        text-align: left;\n",
       "    }\n",
       "\n",
       "    .dataframe tbody tr th {\n",
       "        vertical-align: top;\n",
       "    }\n",
       "</style>\n",
       "<table border=\"1\" class=\"dataframe\">\n",
       "  <thead>\n",
       "    <tr style=\"text-align: right;\">\n",
       "      <th></th>\n",
       "      <th>MEDV</th>\n",
       "      <th>CRIM</th>\n",
       "      <th>ZN</th>\n",
       "      <th>INDUS</th>\n",
       "      <th>CHAS</th>\n",
       "      <th>NOX</th>\n",
       "      <th>RM</th>\n",
       "      <th>AGE</th>\n",
       "      <th>DIS</th>\n",
       "      <th>RAD</th>\n",
       "      <th>TAX</th>\n",
       "      <th>PTRATIO</th>\n",
       "      <th>B</th>\n",
       "      <th>LSTAT</th>\n",
       "    </tr>\n",
       "  </thead>\n",
       "  <tbody>\n",
       "    <tr>\n",
       "      <th>313</th>\n",
       "      <td>21.6</td>\n",
       "      <td>0.26938</td>\n",
       "      <td>0.0</td>\n",
       "      <td>9.90</td>\n",
       "      <td>0.0</td>\n",
       "      <td>0.544</td>\n",
       "      <td>6.266</td>\n",
       "      <td>82.8</td>\n",
       "      <td>3.2628</td>\n",
       "      <td>4.0</td>\n",
       "      <td>304.0</td>\n",
       "      <td>18.4</td>\n",
       "      <td>393.39</td>\n",
       "      <td>7.90</td>\n",
       "    </tr>\n",
       "    <tr>\n",
       "      <th>229</th>\n",
       "      <td>31.5</td>\n",
       "      <td>0.44178</td>\n",
       "      <td>0.0</td>\n",
       "      <td>6.20</td>\n",
       "      <td>0.0</td>\n",
       "      <td>0.504</td>\n",
       "      <td>6.552</td>\n",
       "      <td>21.4</td>\n",
       "      <td>3.3751</td>\n",
       "      <td>8.0</td>\n",
       "      <td>307.0</td>\n",
       "      <td>17.4</td>\n",
       "      <td>380.34</td>\n",
       "      <td>3.76</td>\n",
       "    </tr>\n",
       "    <tr>\n",
       "      <th>197</th>\n",
       "      <td>30.3</td>\n",
       "      <td>0.04666</td>\n",
       "      <td>80.0</td>\n",
       "      <td>1.52</td>\n",
       "      <td>0.0</td>\n",
       "      <td>0.404</td>\n",
       "      <td>7.107</td>\n",
       "      <td>36.6</td>\n",
       "      <td>7.3090</td>\n",
       "      <td>2.0</td>\n",
       "      <td>329.0</td>\n",
       "      <td>12.6</td>\n",
       "      <td>354.31</td>\n",
       "      <td>8.61</td>\n",
       "    </tr>\n",
       "  </tbody>\n",
       "</table>\n",
       "</div>"
      ],
      "text/plain": [
       "     MEDV     CRIM    ZN  INDUS  CHAS    NOX     RM   AGE     DIS  RAD    TAX  \\\n",
       "313  21.6  0.26938   0.0   9.90   0.0  0.544  6.266  82.8  3.2628  4.0  304.0   \n",
       "229  31.5  0.44178   0.0   6.20   0.0  0.504  6.552  21.4  3.3751  8.0  307.0   \n",
       "197  30.3  0.04666  80.0   1.52   0.0  0.404  7.107  36.6  7.3090  2.0  329.0   \n",
       "\n",
       "     PTRATIO       B  LSTAT  \n",
       "313     18.4  393.39   7.90  \n",
       "229     17.4  380.34   3.76  \n",
       "197     12.6  354.31   8.61  "
      ]
     },
     "execution_count": 8,
     "metadata": {},
     "output_type": "execute_result"
    }
   ],
   "source": [
    "X_temp = X.copy(deep=True)\n",
    "# X_temp['MEDV'] = boston.target\n",
    "#type(boston.target)  #,columns=['MEDV'])\n",
    "X_temp.insert(loc=0, column='MEDV', value=boston.target)\n",
    "X_temp.sample(3)"
   ]
  },
  {
   "cell_type": "code",
   "execution_count": 9,
   "metadata": {},
   "outputs": [
    {
     "data": {
      "text/html": [
       "<style  type=\"text/css\" >\n",
       "    #T_32379ef8_f118_11e9_abf1_784f43927254row0_col0 {\n",
       "            background-color:  #08306b;\n",
       "        }    #T_32379ef8_f118_11e9_abf1_784f43927254row0_col1 {\n",
       "            background-color:  #f7fbff;\n",
       "        }    #T_32379ef8_f118_11e9_abf1_784f43927254row0_col2 {\n",
       "            background-color:  #4d99ca;\n",
       "        }    #T_32379ef8_f118_11e9_abf1_784f43927254row0_col3 {\n",
       "            background-color:  #ddeaf7;\n",
       "        }    #T_32379ef8_f118_11e9_abf1_784f43927254row0_col4 {\n",
       "            background-color:  #c2d9ee;\n",
       "        }    #T_32379ef8_f118_11e9_abf1_784f43927254row0_col5 {\n",
       "            background-color:  #d1e2f3;\n",
       "        }    #T_32379ef8_f118_11e9_abf1_784f43927254row0_col6 {\n",
       "            background-color:  #1561a9;\n",
       "        }    #T_32379ef8_f118_11e9_abf1_784f43927254row0_col7 {\n",
       "            background-color:  #cde0f1;\n",
       "        }    #T_32379ef8_f118_11e9_abf1_784f43927254row0_col8 {\n",
       "            background-color:  #529dcc;\n",
       "        }    #T_32379ef8_f118_11e9_abf1_784f43927254row0_col9 {\n",
       "            background-color:  #e8f1fa;\n",
       "        }    #T_32379ef8_f118_11e9_abf1_784f43927254row0_col10 {\n",
       "            background-color:  #eff6fc;\n",
       "        }    #T_32379ef8_f118_11e9_abf1_784f43927254row0_col11 {\n",
       "            background-color:  #f7fbff;\n",
       "        }    #T_32379ef8_f118_11e9_abf1_784f43927254row0_col12 {\n",
       "            background-color:  #5fa6d1;\n",
       "        }    #T_32379ef8_f118_11e9_abf1_784f43927254row0_col13 {\n",
       "            background-color:  #f7fbff;\n",
       "        }    #T_32379ef8_f118_11e9_abf1_784f43927254row1_col0 {\n",
       "            background-color:  #d0e1f2;\n",
       "        }    #T_32379ef8_f118_11e9_abf1_784f43927254row1_col1 {\n",
       "            background-color:  #08306b;\n",
       "        }    #T_32379ef8_f118_11e9_abf1_784f43927254row1_col2 {\n",
       "            background-color:  #c9ddf0;\n",
       "        }    #T_32379ef8_f118_11e9_abf1_784f43927254row1_col3 {\n",
       "            background-color:  #3b8bc2;\n",
       "        }    #T_32379ef8_f118_11e9_abf1_784f43927254row1_col4 {\n",
       "            background-color:  #ebf3fb;\n",
       "        }    #T_32379ef8_f118_11e9_abf1_784f43927254row1_col5 {\n",
       "            background-color:  #3686c0;\n",
       "        }    #T_32379ef8_f118_11e9_abf1_784f43927254row1_col6 {\n",
       "            background-color:  #c7dcef;\n",
       "        }    #T_32379ef8_f118_11e9_abf1_784f43927254row1_col7 {\n",
       "            background-color:  #4191c6;\n",
       "        }    #T_32379ef8_f118_11e9_abf1_784f43927254row1_col8 {\n",
       "            background-color:  #ccdff1;\n",
       "        }    #T_32379ef8_f118_11e9_abf1_784f43927254row1_col9 {\n",
       "            background-color:  #2171b5;\n",
       "        }    #T_32379ef8_f118_11e9_abf1_784f43927254row1_col10 {\n",
       "            background-color:  #2777b8;\n",
       "        }    #T_32379ef8_f118_11e9_abf1_784f43927254row1_col11 {\n",
       "            background-color:  #61a7d2;\n",
       "        }    #T_32379ef8_f118_11e9_abf1_784f43927254row1_col12 {\n",
       "            background-color:  #eef5fc;\n",
       "        }    #T_32379ef8_f118_11e9_abf1_784f43927254row1_col13 {\n",
       "            background-color:  #3282be;\n",
       "        }    #T_32379ef8_f118_11e9_abf1_784f43927254row2_col0 {\n",
       "            background-color:  #4090c5;\n",
       "        }    #T_32379ef8_f118_11e9_abf1_784f43927254row2_col1 {\n",
       "            background-color:  #dceaf6;\n",
       "        }    #T_32379ef8_f118_11e9_abf1_784f43927254row2_col2 {\n",
       "            background-color:  #08306b;\n",
       "        }    #T_32379ef8_f118_11e9_abf1_784f43927254row2_col3 {\n",
       "            background-color:  #e3eef8;\n",
       "        }    #T_32379ef8_f118_11e9_abf1_784f43927254row2_col4 {\n",
       "            background-color:  #eaf2fb;\n",
       "        }    #T_32379ef8_f118_11e9_abf1_784f43927254row2_col5 {\n",
       "            background-color:  #dbe9f6;\n",
       "        }    #T_32379ef8_f118_11e9_abf1_784f43927254row2_col6 {\n",
       "            background-color:  #539ecd;\n",
       "        }    #T_32379ef8_f118_11e9_abf1_784f43927254row2_col7 {\n",
       "            background-color:  #e3eef8;\n",
       "        }    #T_32379ef8_f118_11e9_abf1_784f43927254row2_col8 {\n",
       "            background-color:  #1561a9;\n",
       "        }    #T_32379ef8_f118_11e9_abf1_784f43927254row2_col9 {\n",
       "            background-color:  #dfebf7;\n",
       "        }    #T_32379ef8_f118_11e9_abf1_784f43927254row2_col10 {\n",
       "            background-color:  #dbe9f6;\n",
       "        }    #T_32379ef8_f118_11e9_abf1_784f43927254row2_col11 {\n",
       "            background-color:  #e8f1fa;\n",
       "        }    #T_32379ef8_f118_11e9_abf1_784f43927254row2_col12 {\n",
       "            background-color:  #89bedc;\n",
       "        }    #T_32379ef8_f118_11e9_abf1_784f43927254row2_col13 {\n",
       "            background-color:  #d3e3f3;\n",
       "        }    #T_32379ef8_f118_11e9_abf1_784f43927254row3_col0 {\n",
       "            background-color:  #dae8f6;\n",
       "        }    #T_32379ef8_f118_11e9_abf1_784f43927254row3_col1 {\n",
       "            background-color:  #549fcd;\n",
       "        }    #T_32379ef8_f118_11e9_abf1_784f43927254row3_col2 {\n",
       "            background-color:  #f3f8fe;\n",
       "        }    #T_32379ef8_f118_11e9_abf1_784f43927254row3_col3 {\n",
       "            background-color:  #08306b;\n",
       "        }    #T_32379ef8_f118_11e9_abf1_784f43927254row3_col4 {\n",
       "            background-color:  #d6e6f4;\n",
       "        }    #T_32379ef8_f118_11e9_abf1_784f43927254row3_col5 {\n",
       "            background-color:  #0a539e;\n",
       "        }    #T_32379ef8_f118_11e9_abf1_784f43927254row3_col6 {\n",
       "            background-color:  #dce9f6;\n",
       "        }    #T_32379ef8_f118_11e9_abf1_784f43927254row3_col7 {\n",
       "            background-color:  #1865ac;\n",
       "        }    #T_32379ef8_f118_11e9_abf1_784f43927254row3_col8 {\n",
       "            background-color:  #f1f7fd;\n",
       "        }    #T_32379ef8_f118_11e9_abf1_784f43927254row3_col9 {\n",
       "            background-color:  #2676b8;\n",
       "        }    #T_32379ef8_f118_11e9_abf1_784f43927254row3_col10 {\n",
       "            background-color:  #135fa7;\n",
       "        }    #T_32379ef8_f118_11e9_abf1_784f43927254row3_col11 {\n",
       "            background-color:  #4d99ca;\n",
       "        }    #T_32379ef8_f118_11e9_abf1_784f43927254row3_col12 {\n",
       "            background-color:  #ebf3fb;\n",
       "        }    #T_32379ef8_f118_11e9_abf1_784f43927254row3_col13 {\n",
       "            background-color:  #1c6bb0;\n",
       "        }    #T_32379ef8_f118_11e9_abf1_784f43927254row4_col0 {\n",
       "            background-color:  #63a8d3;\n",
       "        }    #T_32379ef8_f118_11e9_abf1_784f43927254row4_col1 {\n",
       "            background-color:  #c8dcf0;\n",
       "        }    #T_32379ef8_f118_11e9_abf1_784f43927254row4_col2 {\n",
       "            background-color:  #abd0e6;\n",
       "        }    #T_32379ef8_f118_11e9_abf1_784f43927254row4_col3 {\n",
       "            background-color:  #7fb9da;\n",
       "        }    #T_32379ef8_f118_11e9_abf1_784f43927254row4_col4 {\n",
       "            background-color:  #08306b;\n",
       "        }    #T_32379ef8_f118_11e9_abf1_784f43927254row4_col5 {\n",
       "            background-color:  #71b1d7;\n",
       "        }    #T_32379ef8_f118_11e9_abf1_784f43927254row4_col6 {\n",
       "            background-color:  #85bcdc;\n",
       "        }    #T_32379ef8_f118_11e9_abf1_784f43927254row4_col7 {\n",
       "            background-color:  #74b3d8;\n",
       "        }    #T_32379ef8_f118_11e9_abf1_784f43927254row4_col8 {\n",
       "            background-color:  #9dcae1;\n",
       "        }    #T_32379ef8_f118_11e9_abf1_784f43927254row4_col9 {\n",
       "            background-color:  #aed1e7;\n",
       "        }    #T_32379ef8_f118_11e9_abf1_784f43927254row4_col10 {\n",
       "            background-color:  #aed1e7;\n",
       "        }    #T_32379ef8_f118_11e9_abf1_784f43927254row4_col11 {\n",
       "            background-color:  #c4daee;\n",
       "        }    #T_32379ef8_f118_11e9_abf1_784f43927254row4_col12 {\n",
       "            background-color:  #a9cfe5;\n",
       "        }    #T_32379ef8_f118_11e9_abf1_784f43927254row4_col13 {\n",
       "            background-color:  #97c6df;\n",
       "        }    #T_32379ef8_f118_11e9_abf1_784f43927254row5_col0 {\n",
       "            background-color:  #d4e4f4;\n",
       "        }    #T_32379ef8_f118_11e9_abf1_784f43927254row5_col1 {\n",
       "            background-color:  #519ccc;\n",
       "        }    #T_32379ef8_f118_11e9_abf1_784f43927254row5_col2 {\n",
       "            background-color:  #f1f7fd;\n",
       "        }    #T_32379ef8_f118_11e9_abf1_784f43927254row5_col3 {\n",
       "            background-color:  #0a549e;\n",
       "        }    #T_32379ef8_f118_11e9_abf1_784f43927254row5_col4 {\n",
       "            background-color:  #d2e3f3;\n",
       "        }    #T_32379ef8_f118_11e9_abf1_784f43927254row5_col5 {\n",
       "            background-color:  #08306b;\n",
       "        }    #T_32379ef8_f118_11e9_abf1_784f43927254row5_col6 {\n",
       "            background-color:  #d1e2f3;\n",
       "        }    #T_32379ef8_f118_11e9_abf1_784f43927254row5_col7 {\n",
       "            background-color:  #0e58a2;\n",
       "        }    #T_32379ef8_f118_11e9_abf1_784f43927254row5_col8 {\n",
       "            background-color:  #f7fbff;\n",
       "        }    #T_32379ef8_f118_11e9_abf1_784f43927254row5_col9 {\n",
       "            background-color:  #2373b6;\n",
       "        }    #T_32379ef8_f118_11e9_abf1_784f43927254row5_col10 {\n",
       "            background-color:  #1a68ae;\n",
       "        }    #T_32379ef8_f118_11e9_abf1_784f43927254row5_col11 {\n",
       "            background-color:  #7ab6d9;\n",
       "        }    #T_32379ef8_f118_11e9_abf1_784f43927254row5_col12 {\n",
       "            background-color:  #eef5fc;\n",
       "        }    #T_32379ef8_f118_11e9_abf1_784f43927254row5_col13 {\n",
       "            background-color:  #1e6db2;\n",
       "        }    #T_32379ef8_f118_11e9_abf1_784f43927254row6_col0 {\n",
       "            background-color:  #125da6;\n",
       "        }    #T_32379ef8_f118_11e9_abf1_784f43927254row6_col1 {\n",
       "            background-color:  #dfecf7;\n",
       "        }    #T_32379ef8_f118_11e9_abf1_784f43927254row6_col2 {\n",
       "            background-color:  #57a0ce;\n",
       "        }    #T_32379ef8_f118_11e9_abf1_784f43927254row6_col3 {\n",
       "            background-color:  #d3e3f3;\n",
       "        }    #T_32379ef8_f118_11e9_abf1_784f43927254row6_col4 {\n",
       "            background-color:  #d2e3f3;\n",
       "        }    #T_32379ef8_f118_11e9_abf1_784f43927254row6_col5 {\n",
       "            background-color:  #c2d9ee;\n",
       "        }    #T_32379ef8_f118_11e9_abf1_784f43927254row6_col6 {\n",
       "            background-color:  #08306b;\n",
       "        }    #T_32379ef8_f118_11e9_abf1_784f43927254row6_col7 {\n",
       "            background-color:  #b9d6ea;\n",
       "        }    #T_32379ef8_f118_11e9_abf1_784f43927254row6_col8 {\n",
       "            background-color:  #5aa2cf;\n",
       "        }    #T_32379ef8_f118_11e9_abf1_784f43927254row6_col9 {\n",
       "            background-color:  #d2e3f3;\n",
       "        }    #T_32379ef8_f118_11e9_abf1_784f43927254row6_col10 {\n",
       "            background-color:  #d8e7f5;\n",
       "        }    #T_32379ef8_f118_11e9_abf1_784f43927254row6_col11 {\n",
       "            background-color:  #e3eef9;\n",
       "        }    #T_32379ef8_f118_11e9_abf1_784f43927254row6_col12 {\n",
       "            background-color:  #95c5df;\n",
       "        }    #T_32379ef8_f118_11e9_abf1_784f43927254row6_col13 {\n",
       "            background-color:  #e9f2fa;\n",
       "        }    #T_32379ef8_f118_11e9_abf1_784f43927254row7_col0 {\n",
       "            background-color:  #cee0f2;\n",
       "        }    #T_32379ef8_f118_11e9_abf1_784f43927254row7_col1 {\n",
       "            background-color:  #60a7d2;\n",
       "        }    #T_32379ef8_f118_11e9_abf1_784f43927254row7_col2 {\n",
       "            background-color:  #f7fbff;\n",
       "        }    #T_32379ef8_f118_11e9_abf1_784f43927254row7_col3 {\n",
       "            background-color:  #1966ad;\n",
       "        }    #T_32379ef8_f118_11e9_abf1_784f43927254row7_col4 {\n",
       "            background-color:  #d3e3f3;\n",
       "        }    #T_32379ef8_f118_11e9_abf1_784f43927254row7_col5 {\n",
       "            background-color:  #0d57a1;\n",
       "        }    #T_32379ef8_f118_11e9_abf1_784f43927254row7_col6 {\n",
       "            background-color:  #caddf0;\n",
       "        }    #T_32379ef8_f118_11e9_abf1_784f43927254row7_col7 {\n",
       "            background-color:  #08306b;\n",
       "        }    #T_32379ef8_f118_11e9_abf1_784f43927254row7_col8 {\n",
       "            background-color:  #f5f9fe;\n",
       "        }    #T_32379ef8_f118_11e9_abf1_784f43927254row7_col9 {\n",
       "            background-color:  #3f8fc5;\n",
       "        }    #T_32379ef8_f118_11e9_abf1_784f43927254row7_col10 {\n",
       "            background-color:  #3484bf;\n",
       "        }    #T_32379ef8_f118_11e9_abf1_784f43927254row7_col11 {\n",
       "            background-color:  #68acd5;\n",
       "        }    #T_32379ef8_f118_11e9_abf1_784f43927254row7_col12 {\n",
       "            background-color:  #dfecf7;\n",
       "        }    #T_32379ef8_f118_11e9_abf1_784f43927254row7_col13 {\n",
       "            background-color:  #1c6bb0;\n",
       "        }    #T_32379ef8_f118_11e9_abf1_784f43927254row8_col0 {\n",
       "            background-color:  #549fcd;\n",
       "        }    #T_32379ef8_f118_11e9_abf1_784f43927254row8_col1 {\n",
       "            background-color:  #f6faff;\n",
       "        }    #T_32379ef8_f118_11e9_abf1_784f43927254row8_col2 {\n",
       "            background-color:  #1967ad;\n",
       "        }    #T_32379ef8_f118_11e9_abf1_784f43927254row8_col3 {\n",
       "            background-color:  #f7fbff;\n",
       "        }    #T_32379ef8_f118_11e9_abf1_784f43927254row8_col4 {\n",
       "            background-color:  #f3f8fe;\n",
       "        }    #T_32379ef8_f118_11e9_abf1_784f43927254row8_col5 {\n",
       "            background-color:  #f7fbff;\n",
       "        }    #T_32379ef8_f118_11e9_abf1_784f43927254row8_col6 {\n",
       "            background-color:  #69add5;\n",
       "        }    #T_32379ef8_f118_11e9_abf1_784f43927254row8_col7 {\n",
       "            background-color:  #f7fbff;\n",
       "        }    #T_32379ef8_f118_11e9_abf1_784f43927254row8_col8 {\n",
       "            background-color:  #08306b;\n",
       "        }    #T_32379ef8_f118_11e9_abf1_784f43927254row8_col9 {\n",
       "            background-color:  #f7fbff;\n",
       "        }    #T_32379ef8_f118_11e9_abf1_784f43927254row8_col10 {\n",
       "            background-color:  #f7fbff;\n",
       "        }    #T_32379ef8_f118_11e9_abf1_784f43927254row8_col11 {\n",
       "            background-color:  #d3e4f3;\n",
       "        }    #T_32379ef8_f118_11e9_abf1_784f43927254row8_col12 {\n",
       "            background-color:  #68acd5;\n",
       "        }    #T_32379ef8_f118_11e9_abf1_784f43927254row8_col13 {\n",
       "            background-color:  #dce9f6;\n",
       "        }    #T_32379ef8_f118_11e9_abf1_784f43927254row9_col0 {\n",
       "            background-color:  #cfe1f2;\n",
       "        }    #T_32379ef8_f118_11e9_abf1_784f43927254row9_col1 {\n",
       "            background-color:  #2676b8;\n",
       "        }    #T_32379ef8_f118_11e9_abf1_784f43927254row9_col2 {\n",
       "            background-color:  #d6e6f4;\n",
       "        }    #T_32379ef8_f118_11e9_abf1_784f43927254row9_col3 {\n",
       "            background-color:  #1e6db2;\n",
       "        }    #T_32379ef8_f118_11e9_abf1_784f43927254row9_col4 {\n",
       "            background-color:  #e3eef8;\n",
       "        }    #T_32379ef8_f118_11e9_abf1_784f43927254row9_col5 {\n",
       "            background-color:  #1b69af;\n",
       "        }    #T_32379ef8_f118_11e9_abf1_784f43927254row9_col6 {\n",
       "            background-color:  #c6dbef;\n",
       "        }    #T_32379ef8_f118_11e9_abf1_784f43927254row9_col7 {\n",
       "            background-color:  #3181bd;\n",
       "        }    #T_32379ef8_f118_11e9_abf1_784f43927254row9_col8 {\n",
       "            background-color:  #d9e7f5;\n",
       "        }    #T_32379ef8_f118_11e9_abf1_784f43927254row9_col9 {\n",
       "            background-color:  #08306b;\n",
       "        }    #T_32379ef8_f118_11e9_abf1_784f43927254row9_col10 {\n",
       "            background-color:  #083e81;\n",
       "        }    #T_32379ef8_f118_11e9_abf1_784f43927254row9_col11 {\n",
       "            background-color:  #3c8cc3;\n",
       "        }    #T_32379ef8_f118_11e9_abf1_784f43927254row9_col12 {\n",
       "            background-color:  #f7fbff;\n",
       "        }    #T_32379ef8_f118_11e9_abf1_784f43927254row9_col13 {\n",
       "            background-color:  #2d7dbb;\n",
       "        }    #T_32379ef8_f118_11e9_abf1_784f43927254row10_col0 {\n",
       "            background-color:  #d9e7f5;\n",
       "        }    #T_32379ef8_f118_11e9_abf1_784f43927254row10_col1 {\n",
       "            background-color:  #2f7fbc;\n",
       "        }    #T_32379ef8_f118_11e9_abf1_784f43927254row10_col2 {\n",
       "            background-color:  #d7e6f5;\n",
       "        }    #T_32379ef8_f118_11e9_abf1_784f43927254row10_col3 {\n",
       "            background-color:  #0f5aa3;\n",
       "        }    #T_32379ef8_f118_11e9_abf1_784f43927254row10_col4 {\n",
       "            background-color:  #e8f1fa;\n",
       "        }    #T_32379ef8_f118_11e9_abf1_784f43927254row10_col5 {\n",
       "            background-color:  #1561a9;\n",
       "        }    #T_32379ef8_f118_11e9_abf1_784f43927254row10_col6 {\n",
       "            background-color:  #d0e1f2;\n",
       "        }    #T_32379ef8_f118_11e9_abf1_784f43927254row10_col7 {\n",
       "            background-color:  #2a7ab9;\n",
       "        }    #T_32379ef8_f118_11e9_abf1_784f43927254row10_col8 {\n",
       "            background-color:  #ddeaf7;\n",
       "        }    #T_32379ef8_f118_11e9_abf1_784f43927254row10_col9 {\n",
       "            background-color:  #084082;\n",
       "        }    #T_32379ef8_f118_11e9_abf1_784f43927254row10_col10 {\n",
       "            background-color:  #08306b;\n",
       "        }    #T_32379ef8_f118_11e9_abf1_784f43927254row10_col11 {\n",
       "            background-color:  #3d8dc4;\n",
       "        }    #T_32379ef8_f118_11e9_abf1_784f43927254row10_col12 {\n",
       "            background-color:  #f7fbff;\n",
       "        }    #T_32379ef8_f118_11e9_abf1_784f43927254row10_col13 {\n",
       "            background-color:  #2474b7;\n",
       "        }    #T_32379ef8_f118_11e9_abf1_784f43927254row11_col0 {\n",
       "            background-color:  #ddeaf7;\n",
       "        }    #T_32379ef8_f118_11e9_abf1_784f43927254row11_col1 {\n",
       "            background-color:  #71b1d7;\n",
       "        }    #T_32379ef8_f118_11e9_abf1_784f43927254row11_col2 {\n",
       "            background-color:  #e0ecf8;\n",
       "        }    #T_32379ef8_f118_11e9_abf1_784f43927254row11_col3 {\n",
       "            background-color:  #3e8ec4;\n",
       "        }    #T_32379ef8_f118_11e9_abf1_784f43927254row11_col4 {\n",
       "            background-color:  #f7fbff;\n",
       "        }    #T_32379ef8_f118_11e9_abf1_784f43927254row11_col5 {\n",
       "            background-color:  #5da5d1;\n",
       "        }    #T_32379ef8_f118_11e9_abf1_784f43927254row11_col6 {\n",
       "            background-color:  #d8e7f5;\n",
       "        }    #T_32379ef8_f118_11e9_abf1_784f43927254row11_col7 {\n",
       "            background-color:  #529dcc;\n",
       "        }    #T_32379ef8_f118_11e9_abf1_784f43927254row11_col8 {\n",
       "            background-color:  #b5d4e9;\n",
       "        }    #T_32379ef8_f118_11e9_abf1_784f43927254row11_col9 {\n",
       "            background-color:  #3d8dc4;\n",
       "        }    #T_32379ef8_f118_11e9_abf1_784f43927254row11_col10 {\n",
       "            background-color:  #3b8bc2;\n",
       "        }    #T_32379ef8_f118_11e9_abf1_784f43927254row11_col11 {\n",
       "            background-color:  #08306b;\n",
       "        }    #T_32379ef8_f118_11e9_abf1_784f43927254row11_col12 {\n",
       "            background-color:  #d3e3f3;\n",
       "        }    #T_32379ef8_f118_11e9_abf1_784f43927254row11_col13 {\n",
       "            background-color:  #3e8ec4;\n",
       "        }    #T_32379ef8_f118_11e9_abf1_784f43927254row12_col0 {\n",
       "            background-color:  #4594c7;\n",
       "        }    #T_32379ef8_f118_11e9_abf1_784f43927254row12_col1 {\n",
       "            background-color:  #f6faff;\n",
       "        }    #T_32379ef8_f118_11e9_abf1_784f43927254row12_col2 {\n",
       "            background-color:  #75b4d8;\n",
       "        }    #T_32379ef8_f118_11e9_abf1_784f43927254row12_col3 {\n",
       "            background-color:  #cfe1f2;\n",
       "        }    #T_32379ef8_f118_11e9_abf1_784f43927254row12_col4 {\n",
       "            background-color:  #d9e8f5;\n",
       "        }    #T_32379ef8_f118_11e9_abf1_784f43927254row12_col5 {\n",
       "            background-color:  #ccdff1;\n",
       "        }    #T_32379ef8_f118_11e9_abf1_784f43927254row12_col6 {\n",
       "            background-color:  #7cb7da;\n",
       "        }    #T_32379ef8_f118_11e9_abf1_784f43927254row12_col7 {\n",
       "            background-color:  #bfd8ed;\n",
       "        }    #T_32379ef8_f118_11e9_abf1_784f43927254row12_col8 {\n",
       "            background-color:  #4a98c9;\n",
       "        }    #T_32379ef8_f118_11e9_abf1_784f43927254row12_col9 {\n",
       "            background-color:  #f1f7fd;\n",
       "        }    #T_32379ef8_f118_11e9_abf1_784f43927254row12_col10 {\n",
       "            background-color:  #ebf3fb;\n",
       "        }    #T_32379ef8_f118_11e9_abf1_784f43927254row12_col11 {\n",
       "            background-color:  #ccdff1;\n",
       "        }    #T_32379ef8_f118_11e9_abf1_784f43927254row12_col12 {\n",
       "            background-color:  #08306b;\n",
       "        }    #T_32379ef8_f118_11e9_abf1_784f43927254row12_col13 {\n",
       "            background-color:  #cde0f1;\n",
       "        }    #T_32379ef8_f118_11e9_abf1_784f43927254row13_col0 {\n",
       "            background-color:  #f7fbff;\n",
       "        }    #T_32379ef8_f118_11e9_abf1_784f43927254row13_col1 {\n",
       "            background-color:  #4997c9;\n",
       "        }    #T_32379ef8_f118_11e9_abf1_784f43927254row13_col2 {\n",
       "            background-color:  #e3eef9;\n",
       "        }    #T_32379ef8_f118_11e9_abf1_784f43927254row13_col3 {\n",
       "            background-color:  #1d6cb1;\n",
       "        }    #T_32379ef8_f118_11e9_abf1_784f43927254row13_col4 {\n",
       "            background-color:  #ebf3fb;\n",
       "        }    #T_32379ef8_f118_11e9_abf1_784f43927254row13_col5 {\n",
       "            background-color:  #1d6cb1;\n",
       "        }    #T_32379ef8_f118_11e9_abf1_784f43927254row13_col6 {\n",
       "            background-color:  #f7fbff;\n",
       "        }    #T_32379ef8_f118_11e9_abf1_784f43927254row13_col7 {\n",
       "            background-color:  #1c6bb0;\n",
       "        }    #T_32379ef8_f118_11e9_abf1_784f43927254row13_col8 {\n",
       "            background-color:  #d9e7f5;\n",
       "        }    #T_32379ef8_f118_11e9_abf1_784f43927254row13_col9 {\n",
       "            background-color:  #3989c1;\n",
       "        }    #T_32379ef8_f118_11e9_abf1_784f43927254row13_col10 {\n",
       "            background-color:  #2e7ebc;\n",
       "        }    #T_32379ef8_f118_11e9_abf1_784f43927254row13_col11 {\n",
       "            background-color:  #4f9bcb;\n",
       "        }    #T_32379ef8_f118_11e9_abf1_784f43927254row13_col12 {\n",
       "            background-color:  #edf4fc;\n",
       "        }    #T_32379ef8_f118_11e9_abf1_784f43927254row13_col13 {\n",
       "            background-color:  #08306b;\n",
       "        }</style>  \n",
       "<table id=\"T_32379ef8_f118_11e9_abf1_784f43927254\" > \n",
       "<thead>    <tr> \n",
       "        <th class=\"blank level0\" ></th> \n",
       "        <th class=\"col_heading level0 col0\" >MEDV</th> \n",
       "        <th class=\"col_heading level0 col1\" >CRIM</th> \n",
       "        <th class=\"col_heading level0 col2\" >ZN</th> \n",
       "        <th class=\"col_heading level0 col3\" >INDUS</th> \n",
       "        <th class=\"col_heading level0 col4\" >CHAS</th> \n",
       "        <th class=\"col_heading level0 col5\" >NOX</th> \n",
       "        <th class=\"col_heading level0 col6\" >RM</th> \n",
       "        <th class=\"col_heading level0 col7\" >AGE</th> \n",
       "        <th class=\"col_heading level0 col8\" >DIS</th> \n",
       "        <th class=\"col_heading level0 col9\" >RAD</th> \n",
       "        <th class=\"col_heading level0 col10\" >TAX</th> \n",
       "        <th class=\"col_heading level0 col11\" >PTRATIO</th> \n",
       "        <th class=\"col_heading level0 col12\" >B</th> \n",
       "        <th class=\"col_heading level0 col13\" >LSTAT</th> \n",
       "    </tr></thead> \n",
       "<tbody>    <tr> \n",
       "        <th id=\"T_32379ef8_f118_11e9_abf1_784f43927254\" class=\"row_heading level0 row0\" >MEDV</th> \n",
       "        <td id=\"T_32379ef8_f118_11e9_abf1_784f43927254row0_col0\" class=\"data row0 col0\" >1</td> \n",
       "        <td id=\"T_32379ef8_f118_11e9_abf1_784f43927254row0_col1\" class=\"data row0 col1\" >-0.385832</td> \n",
       "        <td id=\"T_32379ef8_f118_11e9_abf1_784f43927254row0_col2\" class=\"data row0 col2\" >0.360445</td> \n",
       "        <td id=\"T_32379ef8_f118_11e9_abf1_784f43927254row0_col3\" class=\"data row0 col3\" >-0.483725</td> \n",
       "        <td id=\"T_32379ef8_f118_11e9_abf1_784f43927254row0_col4\" class=\"data row0 col4\" >0.17526</td> \n",
       "        <td id=\"T_32379ef8_f118_11e9_abf1_784f43927254row0_col5\" class=\"data row0 col5\" >-0.427321</td> \n",
       "        <td id=\"T_32379ef8_f118_11e9_abf1_784f43927254row0_col6\" class=\"data row0 col6\" >0.69536</td> \n",
       "        <td id=\"T_32379ef8_f118_11e9_abf1_784f43927254row0_col7\" class=\"data row0 col7\" >-0.376955</td> \n",
       "        <td id=\"T_32379ef8_f118_11e9_abf1_784f43927254row0_col8\" class=\"data row0 col8\" >0.249929</td> \n",
       "        <td id=\"T_32379ef8_f118_11e9_abf1_784f43927254row0_col9\" class=\"data row0 col9\" >-0.381626</td> \n",
       "        <td id=\"T_32379ef8_f118_11e9_abf1_784f43927254row0_col10\" class=\"data row0 col10\" >-0.468536</td> \n",
       "        <td id=\"T_32379ef8_f118_11e9_abf1_784f43927254row0_col11\" class=\"data row0 col11\" >-0.507787</td> \n",
       "        <td id=\"T_32379ef8_f118_11e9_abf1_784f43927254row0_col12\" class=\"data row0 col12\" >0.333461</td> \n",
       "        <td id=\"T_32379ef8_f118_11e9_abf1_784f43927254row0_col13\" class=\"data row0 col13\" >-0.737663</td> \n",
       "    </tr>    <tr> \n",
       "        <th id=\"T_32379ef8_f118_11e9_abf1_784f43927254\" class=\"row_heading level0 row1\" >CRIM</th> \n",
       "        <td id=\"T_32379ef8_f118_11e9_abf1_784f43927254row1_col0\" class=\"data row1 col0\" >-0.385832</td> \n",
       "        <td id=\"T_32379ef8_f118_11e9_abf1_784f43927254row1_col1\" class=\"data row1 col1\" >1</td> \n",
       "        <td id=\"T_32379ef8_f118_11e9_abf1_784f43927254row1_col2\" class=\"data row1 col2\" >-0.199458</td> \n",
       "        <td id=\"T_32379ef8_f118_11e9_abf1_784f43927254row1_col3\" class=\"data row1 col3\" >0.404471</td> \n",
       "        <td id=\"T_32379ef8_f118_11e9_abf1_784f43927254row1_col4\" class=\"data row1 col4\" >-0.0552953</td> \n",
       "        <td id=\"T_32379ef8_f118_11e9_abf1_784f43927254row1_col5\" class=\"data row1 col5\" >0.417521</td> \n",
       "        <td id=\"T_32379ef8_f118_11e9_abf1_784f43927254row1_col6\" class=\"data row1 col6\" >-0.21994</td> \n",
       "        <td id=\"T_32379ef8_f118_11e9_abf1_784f43927254row1_col7\" class=\"data row1 col7\" >0.350784</td> \n",
       "        <td id=\"T_32379ef8_f118_11e9_abf1_784f43927254row1_col8\" class=\"data row1 col8\" >-0.377904</td> \n",
       "        <td id=\"T_32379ef8_f118_11e9_abf1_784f43927254row1_col9\" class=\"data row1 col9\" >0.622029</td> \n",
       "        <td id=\"T_32379ef8_f118_11e9_abf1_784f43927254row1_col10\" class=\"data row1 col10\" >0.579564</td> \n",
       "        <td id=\"T_32379ef8_f118_11e9_abf1_784f43927254row1_col11\" class=\"data row1 col11\" >0.28825</td> \n",
       "        <td id=\"T_32379ef8_f118_11e9_abf1_784f43927254row1_col12\" class=\"data row1 col12\" >-0.377365</td> \n",
       "        <td id=\"T_32379ef8_f118_11e9_abf1_784f43927254row1_col13\" class=\"data row1 col13\" >0.45222</td> \n",
       "    </tr>    <tr> \n",
       "        <th id=\"T_32379ef8_f118_11e9_abf1_784f43927254\" class=\"row_heading level0 row2\" >ZN</th> \n",
       "        <td id=\"T_32379ef8_f118_11e9_abf1_784f43927254row2_col0\" class=\"data row2 col0\" >0.360445</td> \n",
       "        <td id=\"T_32379ef8_f118_11e9_abf1_784f43927254row2_col1\" class=\"data row2 col1\" >-0.199458</td> \n",
       "        <td id=\"T_32379ef8_f118_11e9_abf1_784f43927254row2_col2\" class=\"data row2 col2\" >1</td> \n",
       "        <td id=\"T_32379ef8_f118_11e9_abf1_784f43927254row2_col3\" class=\"data row2 col3\" >-0.533828</td> \n",
       "        <td id=\"T_32379ef8_f118_11e9_abf1_784f43927254row2_col4\" class=\"data row2 col4\" >-0.0426967</td> \n",
       "        <td id=\"T_32379ef8_f118_11e9_abf1_784f43927254row2_col5\" class=\"data row2 col5\" >-0.516604</td> \n",
       "        <td id=\"T_32379ef8_f118_11e9_abf1_784f43927254row2_col6\" class=\"data row2 col6\" >0.311991</td> \n",
       "        <td id=\"T_32379ef8_f118_11e9_abf1_784f43927254row2_col7\" class=\"data row2 col7\" >-0.569537</td> \n",
       "        <td id=\"T_32379ef8_f118_11e9_abf1_784f43927254row2_col8\" class=\"data row2 col8\" >0.664408</td> \n",
       "        <td id=\"T_32379ef8_f118_11e9_abf1_784f43927254row2_col9\" class=\"data row2 col9\" >-0.311948</td> \n",
       "        <td id=\"T_32379ef8_f118_11e9_abf1_784f43927254row2_col10\" class=\"data row2 col10\" >-0.314563</td> \n",
       "        <td id=\"T_32379ef8_f118_11e9_abf1_784f43927254row2_col11\" class=\"data row2 col11\" >-0.391679</td> \n",
       "        <td id=\"T_32379ef8_f118_11e9_abf1_784f43927254row2_col12\" class=\"data row2 col12\" >0.17552</td> \n",
       "        <td id=\"T_32379ef8_f118_11e9_abf1_784f43927254row2_col13\" class=\"data row2 col13\" >-0.412995</td> \n",
       "    </tr>    <tr> \n",
       "        <th id=\"T_32379ef8_f118_11e9_abf1_784f43927254\" class=\"row_heading level0 row3\" >INDUS</th> \n",
       "        <td id=\"T_32379ef8_f118_11e9_abf1_784f43927254row3_col0\" class=\"data row3 col0\" >-0.483725</td> \n",
       "        <td id=\"T_32379ef8_f118_11e9_abf1_784f43927254row3_col1\" class=\"data row3 col1\" >0.404471</td> \n",
       "        <td id=\"T_32379ef8_f118_11e9_abf1_784f43927254row3_col2\" class=\"data row3 col2\" >-0.533828</td> \n",
       "        <td id=\"T_32379ef8_f118_11e9_abf1_784f43927254row3_col3\" class=\"data row3 col3\" >1</td> \n",
       "        <td id=\"T_32379ef8_f118_11e9_abf1_784f43927254row3_col4\" class=\"data row3 col4\" >0.062938</td> \n",
       "        <td id=\"T_32379ef8_f118_11e9_abf1_784f43927254row3_col5\" class=\"data row3 col5\" >0.763651</td> \n",
       "        <td id=\"T_32379ef8_f118_11e9_abf1_784f43927254row3_col6\" class=\"data row3 col6\" >-0.391676</td> \n",
       "        <td id=\"T_32379ef8_f118_11e9_abf1_784f43927254row3_col7\" class=\"data row3 col7\" >0.644779</td> \n",
       "        <td id=\"T_32379ef8_f118_11e9_abf1_784f43927254row3_col8\" class=\"data row3 col8\" >-0.708027</td> \n",
       "        <td id=\"T_32379ef8_f118_11e9_abf1_784f43927254row3_col9\" class=\"data row3 col9\" >0.595129</td> \n",
       "        <td id=\"T_32379ef8_f118_11e9_abf1_784f43927254row3_col10\" class=\"data row3 col10\" >0.72076</td> \n",
       "        <td id=\"T_32379ef8_f118_11e9_abf1_784f43927254row3_col11\" class=\"data row3 col11\" >0.383248</td> \n",
       "        <td id=\"T_32379ef8_f118_11e9_abf1_784f43927254row3_col12\" class=\"data row3 col12\" >-0.356977</td> \n",
       "        <td id=\"T_32379ef8_f118_11e9_abf1_784f43927254row3_col13\" class=\"data row3 col13\" >0.6038</td> \n",
       "    </tr>    <tr> \n",
       "        <th id=\"T_32379ef8_f118_11e9_abf1_784f43927254\" class=\"row_heading level0 row4\" >CHAS</th> \n",
       "        <td id=\"T_32379ef8_f118_11e9_abf1_784f43927254row4_col0\" class=\"data row4 col0\" >0.17526</td> \n",
       "        <td id=\"T_32379ef8_f118_11e9_abf1_784f43927254row4_col1\" class=\"data row4 col1\" >-0.0552953</td> \n",
       "        <td id=\"T_32379ef8_f118_11e9_abf1_784f43927254row4_col2\" class=\"data row4 col2\" >-0.0426967</td> \n",
       "        <td id=\"T_32379ef8_f118_11e9_abf1_784f43927254row4_col3\" class=\"data row4 col3\" >0.062938</td> \n",
       "        <td id=\"T_32379ef8_f118_11e9_abf1_784f43927254row4_col4\" class=\"data row4 col4\" >1</td> \n",
       "        <td id=\"T_32379ef8_f118_11e9_abf1_784f43927254row4_col5\" class=\"data row4 col5\" >0.0912028</td> \n",
       "        <td id=\"T_32379ef8_f118_11e9_abf1_784f43927254row4_col6\" class=\"data row4 col6\" >0.0912512</td> \n",
       "        <td id=\"T_32379ef8_f118_11e9_abf1_784f43927254row4_col7\" class=\"data row4 col7\" >0.0865178</td> \n",
       "        <td id=\"T_32379ef8_f118_11e9_abf1_784f43927254row4_col8\" class=\"data row4 col8\" >-0.0991758</td> \n",
       "        <td id=\"T_32379ef8_f118_11e9_abf1_784f43927254row4_col9\" class=\"data row4 col9\" >-0.00736824</td> \n",
       "        <td id=\"T_32379ef8_f118_11e9_abf1_784f43927254row4_col10\" class=\"data row4 col10\" >-0.0355865</td> \n",
       "        <td id=\"T_32379ef8_f118_11e9_abf1_784f43927254row4_col11\" class=\"data row4 col11\" >-0.121515</td> \n",
       "        <td id=\"T_32379ef8_f118_11e9_abf1_784f43927254row4_col12\" class=\"data row4 col12\" >0.0487885</td> \n",
       "        <td id=\"T_32379ef8_f118_11e9_abf1_784f43927254row4_col13\" class=\"data row4 col13\" >-0.0539293</td> \n",
       "    </tr>    <tr> \n",
       "        <th id=\"T_32379ef8_f118_11e9_abf1_784f43927254\" class=\"row_heading level0 row5\" >NOX</th> \n",
       "        <td id=\"T_32379ef8_f118_11e9_abf1_784f43927254row5_col0\" class=\"data row5 col0\" >-0.427321</td> \n",
       "        <td id=\"T_32379ef8_f118_11e9_abf1_784f43927254row5_col1\" class=\"data row5 col1\" >0.417521</td> \n",
       "        <td id=\"T_32379ef8_f118_11e9_abf1_784f43927254row5_col2\" class=\"data row5 col2\" >-0.516604</td> \n",
       "        <td id=\"T_32379ef8_f118_11e9_abf1_784f43927254row5_col3\" class=\"data row5 col3\" >0.763651</td> \n",
       "        <td id=\"T_32379ef8_f118_11e9_abf1_784f43927254row5_col4\" class=\"data row5 col4\" >0.0912028</td> \n",
       "        <td id=\"T_32379ef8_f118_11e9_abf1_784f43927254row5_col5\" class=\"data row5 col5\" >1</td> \n",
       "        <td id=\"T_32379ef8_f118_11e9_abf1_784f43927254row5_col6\" class=\"data row5 col6\" >-0.302188</td> \n",
       "        <td id=\"T_32379ef8_f118_11e9_abf1_784f43927254row5_col7\" class=\"data row5 col7\" >0.73147</td> \n",
       "        <td id=\"T_32379ef8_f118_11e9_abf1_784f43927254row5_col8\" class=\"data row5 col8\" >-0.76923</td> \n",
       "        <td id=\"T_32379ef8_f118_11e9_abf1_784f43927254row5_col9\" class=\"data row5 col9\" >0.611441</td> \n",
       "        <td id=\"T_32379ef8_f118_11e9_abf1_784f43927254row5_col10\" class=\"data row5 col10\" >0.668023</td> \n",
       "        <td id=\"T_32379ef8_f118_11e9_abf1_784f43927254row5_col11\" class=\"data row5 col11\" >0.188933</td> \n",
       "        <td id=\"T_32379ef8_f118_11e9_abf1_784f43927254row5_col12\" class=\"data row5 col12\" >-0.380051</td> \n",
       "        <td id=\"T_32379ef8_f118_11e9_abf1_784f43927254row5_col13\" class=\"data row5 col13\" >0.590879</td> \n",
       "    </tr>    <tr> \n",
       "        <th id=\"T_32379ef8_f118_11e9_abf1_784f43927254\" class=\"row_heading level0 row6\" >RM</th> \n",
       "        <td id=\"T_32379ef8_f118_11e9_abf1_784f43927254row6_col0\" class=\"data row6 col0\" >0.69536</td> \n",
       "        <td id=\"T_32379ef8_f118_11e9_abf1_784f43927254row6_col1\" class=\"data row6 col1\" >-0.21994</td> \n",
       "        <td id=\"T_32379ef8_f118_11e9_abf1_784f43927254row6_col2\" class=\"data row6 col2\" >0.311991</td> \n",
       "        <td id=\"T_32379ef8_f118_11e9_abf1_784f43927254row6_col3\" class=\"data row6 col3\" >-0.391676</td> \n",
       "        <td id=\"T_32379ef8_f118_11e9_abf1_784f43927254row6_col4\" class=\"data row6 col4\" >0.0912512</td> \n",
       "        <td id=\"T_32379ef8_f118_11e9_abf1_784f43927254row6_col5\" class=\"data row6 col5\" >-0.302188</td> \n",
       "        <td id=\"T_32379ef8_f118_11e9_abf1_784f43927254row6_col6\" class=\"data row6 col6\" >1</td> \n",
       "        <td id=\"T_32379ef8_f118_11e9_abf1_784f43927254row6_col7\" class=\"data row6 col7\" >-0.240265</td> \n",
       "        <td id=\"T_32379ef8_f118_11e9_abf1_784f43927254row6_col8\" class=\"data row6 col8\" >0.205246</td> \n",
       "        <td id=\"T_32379ef8_f118_11e9_abf1_784f43927254row6_col9\" class=\"data row6 col9\" >-0.209847</td> \n",
       "        <td id=\"T_32379ef8_f118_11e9_abf1_784f43927254row6_col10\" class=\"data row6 col10\" >-0.292048</td> \n",
       "        <td id=\"T_32379ef8_f118_11e9_abf1_784f43927254row6_col11\" class=\"data row6 col11\" >-0.355501</td> \n",
       "        <td id=\"T_32379ef8_f118_11e9_abf1_784f43927254row6_col12\" class=\"data row6 col12\" >0.128069</td> \n",
       "        <td id=\"T_32379ef8_f118_11e9_abf1_784f43927254row6_col13\" class=\"data row6 col13\" >-0.613808</td> \n",
       "    </tr>    <tr> \n",
       "        <th id=\"T_32379ef8_f118_11e9_abf1_784f43927254\" class=\"row_heading level0 row7\" >AGE</th> \n",
       "        <td id=\"T_32379ef8_f118_11e9_abf1_784f43927254row7_col0\" class=\"data row7 col0\" >-0.376955</td> \n",
       "        <td id=\"T_32379ef8_f118_11e9_abf1_784f43927254row7_col1\" class=\"data row7 col1\" >0.350784</td> \n",
       "        <td id=\"T_32379ef8_f118_11e9_abf1_784f43927254row7_col2\" class=\"data row7 col2\" >-0.569537</td> \n",
       "        <td id=\"T_32379ef8_f118_11e9_abf1_784f43927254row7_col3\" class=\"data row7 col3\" >0.644779</td> \n",
       "        <td id=\"T_32379ef8_f118_11e9_abf1_784f43927254row7_col4\" class=\"data row7 col4\" >0.0865178</td> \n",
       "        <td id=\"T_32379ef8_f118_11e9_abf1_784f43927254row7_col5\" class=\"data row7 col5\" >0.73147</td> \n",
       "        <td id=\"T_32379ef8_f118_11e9_abf1_784f43927254row7_col6\" class=\"data row7 col6\" >-0.240265</td> \n",
       "        <td id=\"T_32379ef8_f118_11e9_abf1_784f43927254row7_col7\" class=\"data row7 col7\" >1</td> \n",
       "        <td id=\"T_32379ef8_f118_11e9_abf1_784f43927254row7_col8\" class=\"data row7 col8\" >-0.747881</td> \n",
       "        <td id=\"T_32379ef8_f118_11e9_abf1_784f43927254row7_col9\" class=\"data row7 col9\" >0.456022</td> \n",
       "        <td id=\"T_32379ef8_f118_11e9_abf1_784f43927254row7_col10\" class=\"data row7 col10\" >0.506456</td> \n",
       "        <td id=\"T_32379ef8_f118_11e9_abf1_784f43927254row7_col11\" class=\"data row7 col11\" >0.261515</td> \n",
       "        <td id=\"T_32379ef8_f118_11e9_abf1_784f43927254row7_col12\" class=\"data row7 col12\" >-0.273534</td> \n",
       "        <td id=\"T_32379ef8_f118_11e9_abf1_784f43927254row7_col13\" class=\"data row7 col13\" >0.602339</td> \n",
       "    </tr>    <tr> \n",
       "        <th id=\"T_32379ef8_f118_11e9_abf1_784f43927254\" class=\"row_heading level0 row8\" >DIS</th> \n",
       "        <td id=\"T_32379ef8_f118_11e9_abf1_784f43927254row8_col0\" class=\"data row8 col0\" >0.249929</td> \n",
       "        <td id=\"T_32379ef8_f118_11e9_abf1_784f43927254row8_col1\" class=\"data row8 col1\" >-0.377904</td> \n",
       "        <td id=\"T_32379ef8_f118_11e9_abf1_784f43927254row8_col2\" class=\"data row8 col2\" >0.664408</td> \n",
       "        <td id=\"T_32379ef8_f118_11e9_abf1_784f43927254row8_col3\" class=\"data row8 col3\" >-0.708027</td> \n",
       "        <td id=\"T_32379ef8_f118_11e9_abf1_784f43927254row8_col4\" class=\"data row8 col4\" >-0.0991758</td> \n",
       "        <td id=\"T_32379ef8_f118_11e9_abf1_784f43927254row8_col5\" class=\"data row8 col5\" >-0.76923</td> \n",
       "        <td id=\"T_32379ef8_f118_11e9_abf1_784f43927254row8_col6\" class=\"data row8 col6\" >0.205246</td> \n",
       "        <td id=\"T_32379ef8_f118_11e9_abf1_784f43927254row8_col7\" class=\"data row8 col7\" >-0.747881</td> \n",
       "        <td id=\"T_32379ef8_f118_11e9_abf1_784f43927254row8_col8\" class=\"data row8 col8\" >1</td> \n",
       "        <td id=\"T_32379ef8_f118_11e9_abf1_784f43927254row8_col9\" class=\"data row8 col9\" >-0.494588</td> \n",
       "        <td id=\"T_32379ef8_f118_11e9_abf1_784f43927254row8_col10\" class=\"data row8 col10\" >-0.534432</td> \n",
       "        <td id=\"T_32379ef8_f118_11e9_abf1_784f43927254row8_col11\" class=\"data row8 col11\" >-0.232471</td> \n",
       "        <td id=\"T_32379ef8_f118_11e9_abf1_784f43927254row8_col12\" class=\"data row8 col12\" >0.291512</td> \n",
       "        <td id=\"T_32379ef8_f118_11e9_abf1_784f43927254row8_col13\" class=\"data row8 col13\" >-0.496996</td> \n",
       "    </tr>    <tr> \n",
       "        <th id=\"T_32379ef8_f118_11e9_abf1_784f43927254\" class=\"row_heading level0 row9\" >RAD</th> \n",
       "        <td id=\"T_32379ef8_f118_11e9_abf1_784f43927254row9_col0\" class=\"data row9 col0\" >-0.381626</td> \n",
       "        <td id=\"T_32379ef8_f118_11e9_abf1_784f43927254row9_col1\" class=\"data row9 col1\" >0.622029</td> \n",
       "        <td id=\"T_32379ef8_f118_11e9_abf1_784f43927254row9_col2\" class=\"data row9 col2\" >-0.311948</td> \n",
       "        <td id=\"T_32379ef8_f118_11e9_abf1_784f43927254row9_col3\" class=\"data row9 col3\" >0.595129</td> \n",
       "        <td id=\"T_32379ef8_f118_11e9_abf1_784f43927254row9_col4\" class=\"data row9 col4\" >-0.00736824</td> \n",
       "        <td id=\"T_32379ef8_f118_11e9_abf1_784f43927254row9_col5\" class=\"data row9 col5\" >0.611441</td> \n",
       "        <td id=\"T_32379ef8_f118_11e9_abf1_784f43927254row9_col6\" class=\"data row9 col6\" >-0.209847</td> \n",
       "        <td id=\"T_32379ef8_f118_11e9_abf1_784f43927254row9_col7\" class=\"data row9 col7\" >0.456022</td> \n",
       "        <td id=\"T_32379ef8_f118_11e9_abf1_784f43927254row9_col8\" class=\"data row9 col8\" >-0.494588</td> \n",
       "        <td id=\"T_32379ef8_f118_11e9_abf1_784f43927254row9_col9\" class=\"data row9 col9\" >1</td> \n",
       "        <td id=\"T_32379ef8_f118_11e9_abf1_784f43927254row9_col10\" class=\"data row9 col10\" >0.910228</td> \n",
       "        <td id=\"T_32379ef8_f118_11e9_abf1_784f43927254row9_col11\" class=\"data row9 col11\" >0.464741</td> \n",
       "        <td id=\"T_32379ef8_f118_11e9_abf1_784f43927254row9_col12\" class=\"data row9 col12\" >-0.444413</td> \n",
       "        <td id=\"T_32379ef8_f118_11e9_abf1_784f43927254row9_col13\" class=\"data row9 col13\" >0.488676</td> \n",
       "    </tr>    <tr> \n",
       "        <th id=\"T_32379ef8_f118_11e9_abf1_784f43927254\" class=\"row_heading level0 row10\" >TAX</th> \n",
       "        <td id=\"T_32379ef8_f118_11e9_abf1_784f43927254row10_col0\" class=\"data row10 col0\" >-0.468536</td> \n",
       "        <td id=\"T_32379ef8_f118_11e9_abf1_784f43927254row10_col1\" class=\"data row10 col1\" >0.579564</td> \n",
       "        <td id=\"T_32379ef8_f118_11e9_abf1_784f43927254row10_col2\" class=\"data row10 col2\" >-0.314563</td> \n",
       "        <td id=\"T_32379ef8_f118_11e9_abf1_784f43927254row10_col3\" class=\"data row10 col3\" >0.72076</td> \n",
       "        <td id=\"T_32379ef8_f118_11e9_abf1_784f43927254row10_col4\" class=\"data row10 col4\" >-0.0355865</td> \n",
       "        <td id=\"T_32379ef8_f118_11e9_abf1_784f43927254row10_col5\" class=\"data row10 col5\" >0.668023</td> \n",
       "        <td id=\"T_32379ef8_f118_11e9_abf1_784f43927254row10_col6\" class=\"data row10 col6\" >-0.292048</td> \n",
       "        <td id=\"T_32379ef8_f118_11e9_abf1_784f43927254row10_col7\" class=\"data row10 col7\" >0.506456</td> \n",
       "        <td id=\"T_32379ef8_f118_11e9_abf1_784f43927254row10_col8\" class=\"data row10 col8\" >-0.534432</td> \n",
       "        <td id=\"T_32379ef8_f118_11e9_abf1_784f43927254row10_col9\" class=\"data row10 col9\" >0.910228</td> \n",
       "        <td id=\"T_32379ef8_f118_11e9_abf1_784f43927254row10_col10\" class=\"data row10 col10\" >1</td> \n",
       "        <td id=\"T_32379ef8_f118_11e9_abf1_784f43927254row10_col11\" class=\"data row10 col11\" >0.460853</td> \n",
       "        <td id=\"T_32379ef8_f118_11e9_abf1_784f43927254row10_col12\" class=\"data row10 col12\" >-0.441808</td> \n",
       "        <td id=\"T_32379ef8_f118_11e9_abf1_784f43927254row10_col13\" class=\"data row10 col13\" >0.543993</td> \n",
       "    </tr>    <tr> \n",
       "        <th id=\"T_32379ef8_f118_11e9_abf1_784f43927254\" class=\"row_heading level0 row11\" >PTRATIO</th> \n",
       "        <td id=\"T_32379ef8_f118_11e9_abf1_784f43927254row11_col0\" class=\"data row11 col0\" >-0.507787</td> \n",
       "        <td id=\"T_32379ef8_f118_11e9_abf1_784f43927254row11_col1\" class=\"data row11 col1\" >0.28825</td> \n",
       "        <td id=\"T_32379ef8_f118_11e9_abf1_784f43927254row11_col2\" class=\"data row11 col2\" >-0.391679</td> \n",
       "        <td id=\"T_32379ef8_f118_11e9_abf1_784f43927254row11_col3\" class=\"data row11 col3\" >0.383248</td> \n",
       "        <td id=\"T_32379ef8_f118_11e9_abf1_784f43927254row11_col4\" class=\"data row11 col4\" >-0.121515</td> \n",
       "        <td id=\"T_32379ef8_f118_11e9_abf1_784f43927254row11_col5\" class=\"data row11 col5\" >0.188933</td> \n",
       "        <td id=\"T_32379ef8_f118_11e9_abf1_784f43927254row11_col6\" class=\"data row11 col6\" >-0.355501</td> \n",
       "        <td id=\"T_32379ef8_f118_11e9_abf1_784f43927254row11_col7\" class=\"data row11 col7\" >0.261515</td> \n",
       "        <td id=\"T_32379ef8_f118_11e9_abf1_784f43927254row11_col8\" class=\"data row11 col8\" >-0.232471</td> \n",
       "        <td id=\"T_32379ef8_f118_11e9_abf1_784f43927254row11_col9\" class=\"data row11 col9\" >0.464741</td> \n",
       "        <td id=\"T_32379ef8_f118_11e9_abf1_784f43927254row11_col10\" class=\"data row11 col10\" >0.460853</td> \n",
       "        <td id=\"T_32379ef8_f118_11e9_abf1_784f43927254row11_col11\" class=\"data row11 col11\" >1</td> \n",
       "        <td id=\"T_32379ef8_f118_11e9_abf1_784f43927254row11_col12\" class=\"data row11 col12\" >-0.177383</td> \n",
       "        <td id=\"T_32379ef8_f118_11e9_abf1_784f43927254row11_col13\" class=\"data row11 col13\" >0.374044</td> \n",
       "    </tr>    <tr> \n",
       "        <th id=\"T_32379ef8_f118_11e9_abf1_784f43927254\" class=\"row_heading level0 row12\" >B</th> \n",
       "        <td id=\"T_32379ef8_f118_11e9_abf1_784f43927254row12_col0\" class=\"data row12 col0\" >0.333461</td> \n",
       "        <td id=\"T_32379ef8_f118_11e9_abf1_784f43927254row12_col1\" class=\"data row12 col1\" >-0.377365</td> \n",
       "        <td id=\"T_32379ef8_f118_11e9_abf1_784f43927254row12_col2\" class=\"data row12 col2\" >0.17552</td> \n",
       "        <td id=\"T_32379ef8_f118_11e9_abf1_784f43927254row12_col3\" class=\"data row12 col3\" >-0.356977</td> \n",
       "        <td id=\"T_32379ef8_f118_11e9_abf1_784f43927254row12_col4\" class=\"data row12 col4\" >0.0487885</td> \n",
       "        <td id=\"T_32379ef8_f118_11e9_abf1_784f43927254row12_col5\" class=\"data row12 col5\" >-0.380051</td> \n",
       "        <td id=\"T_32379ef8_f118_11e9_abf1_784f43927254row12_col6\" class=\"data row12 col6\" >0.128069</td> \n",
       "        <td id=\"T_32379ef8_f118_11e9_abf1_784f43927254row12_col7\" class=\"data row12 col7\" >-0.273534</td> \n",
       "        <td id=\"T_32379ef8_f118_11e9_abf1_784f43927254row12_col8\" class=\"data row12 col8\" >0.291512</td> \n",
       "        <td id=\"T_32379ef8_f118_11e9_abf1_784f43927254row12_col9\" class=\"data row12 col9\" >-0.444413</td> \n",
       "        <td id=\"T_32379ef8_f118_11e9_abf1_784f43927254row12_col10\" class=\"data row12 col10\" >-0.441808</td> \n",
       "        <td id=\"T_32379ef8_f118_11e9_abf1_784f43927254row12_col11\" class=\"data row12 col11\" >-0.177383</td> \n",
       "        <td id=\"T_32379ef8_f118_11e9_abf1_784f43927254row12_col12\" class=\"data row12 col12\" >1</td> \n",
       "        <td id=\"T_32379ef8_f118_11e9_abf1_784f43927254row12_col13\" class=\"data row12 col13\" >-0.366087</td> \n",
       "    </tr>    <tr> \n",
       "        <th id=\"T_32379ef8_f118_11e9_abf1_784f43927254\" class=\"row_heading level0 row13\" >LSTAT</th> \n",
       "        <td id=\"T_32379ef8_f118_11e9_abf1_784f43927254row13_col0\" class=\"data row13 col0\" >-0.737663</td> \n",
       "        <td id=\"T_32379ef8_f118_11e9_abf1_784f43927254row13_col1\" class=\"data row13 col1\" >0.45222</td> \n",
       "        <td id=\"T_32379ef8_f118_11e9_abf1_784f43927254row13_col2\" class=\"data row13 col2\" >-0.412995</td> \n",
       "        <td id=\"T_32379ef8_f118_11e9_abf1_784f43927254row13_col3\" class=\"data row13 col3\" >0.6038</td> \n",
       "        <td id=\"T_32379ef8_f118_11e9_abf1_784f43927254row13_col4\" class=\"data row13 col4\" >-0.0539293</td> \n",
       "        <td id=\"T_32379ef8_f118_11e9_abf1_784f43927254row13_col5\" class=\"data row13 col5\" >0.590879</td> \n",
       "        <td id=\"T_32379ef8_f118_11e9_abf1_784f43927254row13_col6\" class=\"data row13 col6\" >-0.613808</td> \n",
       "        <td id=\"T_32379ef8_f118_11e9_abf1_784f43927254row13_col7\" class=\"data row13 col7\" >0.602339</td> \n",
       "        <td id=\"T_32379ef8_f118_11e9_abf1_784f43927254row13_col8\" class=\"data row13 col8\" >-0.496996</td> \n",
       "        <td id=\"T_32379ef8_f118_11e9_abf1_784f43927254row13_col9\" class=\"data row13 col9\" >0.488676</td> \n",
       "        <td id=\"T_32379ef8_f118_11e9_abf1_784f43927254row13_col10\" class=\"data row13 col10\" >0.543993</td> \n",
       "        <td id=\"T_32379ef8_f118_11e9_abf1_784f43927254row13_col11\" class=\"data row13 col11\" >0.374044</td> \n",
       "        <td id=\"T_32379ef8_f118_11e9_abf1_784f43927254row13_col12\" class=\"data row13 col12\" >-0.366087</td> \n",
       "        <td id=\"T_32379ef8_f118_11e9_abf1_784f43927254row13_col13\" class=\"data row13 col13\" >1</td> \n",
       "    </tr></tbody> \n",
       "</table> "
      ],
      "text/plain": [
       "<pandas.io.formats.style.Styler at 0x121e6b908>"
      ]
     },
     "execution_count": 9,
     "metadata": {},
     "output_type": "execute_result"
    }
   ],
   "source": [
    "# rs = np.random.RandomState(0)\n",
    "# df = pd.DataFrame(rs.rand(10, 10))\n",
    "corr = X_temp.corr()\n",
    "corr.style.background_gradient(cmap='Blues')"
   ]
  },
  {
   "cell_type": "code",
   "execution_count": 10,
   "metadata": {},
   "outputs": [
    {
     "data": {
      "text/plain": [
       "MEDV       1.000000\n",
       "LSTAT      0.737663\n",
       "RM         0.695360\n",
       "PTRATIO    0.507787\n",
       "INDUS      0.483725\n",
       "TAX        0.468536\n",
       "NOX        0.427321\n",
       "CRIM       0.385832\n",
       "RAD        0.381626\n",
       "AGE        0.376955\n",
       "ZN         0.360445\n",
       "B          0.333461\n",
       "DIS        0.249929\n",
       "CHAS       0.175260\n",
       "Name: MEDV, dtype: float64"
      ]
     },
     "execution_count": 10,
     "metadata": {},
     "output_type": "execute_result"
    }
   ],
   "source": [
    "# Highly correlated values(high +ve and -ve correlations)\n",
    "X_temp.corr().iloc[:,0].abs().sort_values(ascending=False)"
   ]
  },
  {
   "cell_type": "markdown",
   "metadata": {},
   "source": [
    "## Using `scikit-learn` Linear Regression\n",
    "\n",
    "### 2. Pick 3-4 predictors (i.e. CRIM, ZN, etc...) that you will use to predict our target variable, MEDV.\n",
    "Score and plot your predictions. What do these results tell us?"
   ]
  },
  {
   "cell_type": "markdown",
   "metadata": {
    "collapsed": true
   },
   "source": [
    "### Based on the above observation, the 4 promising predictors are \n",
    "- LSTAT\n",
    "- RM\n",
    "- PTRATIO\n",
    "- INDUS"
   ]
  },
  {
   "cell_type": "code",
   "execution_count": 11,
   "metadata": {},
   "outputs": [
    {
     "data": {
      "image/png": "[encoded data removed]",
      "text/plain": [
       "<matplotlib.figure.Figure at 0x122c88cf8>"
      ]
     },
     "metadata": {},
     "output_type": "display_data"
    }
   ],
   "source": [
    "# Correlation plot: Target(MEDV) vs four predictors\n",
    "import matplotlib.pyplot as plt\n",
    "plt.figure(figsize=(20, 5))\n",
    "for i, col in enumerate(['LSTAT', 'RM', 'PTRATIO', 'INDUS']):\n",
    "    plt.subplot(1,4,i+1)\n",
    "    plt.plot(X[col], y['MEDV'], '*')\n",
    "    plt.title(col)\n",
    "    plt.xlabel(col)\n",
    "    plt.ylabel('MEDV')"
   ]
  },
  {
   "cell_type": "code",
   "execution_count": 12,
   "metadata": {},
   "outputs": [
    {
     "data": {
      "image/png": "[encoded data removed]",
      "text/plain": [
       "<matplotlib.figure.Figure at 0x122ff72b0>"
      ]
     },
     "metadata": {},
     "output_type": "display_data"
    }
   ],
   "source": [
    "# Distribution of the 4 predictor variables\n",
    "plt.figure(figsize=(20, 5))\n",
    "for i, col in enumerate(['LSTAT', 'RM', 'PTRATIO', 'INDUS']):\n",
    "    plt.subplot(1,4,i+1)\n",
    "    X[col].plot.hist()\n",
    "    plt.title(col)"
   ]
  },
  {
   "cell_type": "code",
   "execution_count": 15,
   "metadata": {},
   "outputs": [
    {
     "data": {
      "text/html": [
       "<div>\n",
       "<style>\n",
       "    .dataframe thead tr:only-child th {\n",
       "        text-align: right;\n",
       "    }\n",
       "\n",
       "    .dataframe thead th {\n",
       "        text-align: left;\n",
       "    }\n",
       "\n",
       "    .dataframe tbody tr th {\n",
       "        vertical-align: top;\n",
       "    }\n",
       "</style>\n",
       "<table border=\"1\" class=\"dataframe\">\n",
       "  <thead>\n",
       "    <tr style=\"text-align: right;\">\n",
       "      <th></th>\n",
       "      <th>LSTAT</th>\n",
       "      <th>RM</th>\n",
       "      <th>PTRATIO</th>\n",
       "      <th>INDUS</th>\n",
       "    </tr>\n",
       "  </thead>\n",
       "  <tbody>\n",
       "    <tr>\n",
       "      <th>264</th>\n",
       "      <td>8.10</td>\n",
       "      <td>7.206</td>\n",
       "      <td>13.0</td>\n",
       "      <td>3.97</td>\n",
       "    </tr>\n",
       "    <tr>\n",
       "      <th>263</th>\n",
       "      <td>11.25</td>\n",
       "      <td>7.327</td>\n",
       "      <td>13.0</td>\n",
       "      <td>3.97</td>\n",
       "    </tr>\n",
       "    <tr>\n",
       "      <th>58</th>\n",
       "      <td>6.86</td>\n",
       "      <td>6.145</td>\n",
       "      <td>19.7</td>\n",
       "      <td>5.13</td>\n",
       "    </tr>\n",
       "    <tr>\n",
       "      <th>307</th>\n",
       "      <td>7.53</td>\n",
       "      <td>6.849</td>\n",
       "      <td>18.4</td>\n",
       "      <td>2.18</td>\n",
       "    </tr>\n",
       "    <tr>\n",
       "      <th>211</th>\n",
       "      <td>23.98</td>\n",
       "      <td>5.404</td>\n",
       "      <td>18.6</td>\n",
       "      <td>10.59</td>\n",
       "    </tr>\n",
       "  </tbody>\n",
       "</table>\n",
       "</div>"
      ],
      "text/plain": [
       "     LSTAT     RM  PTRATIO  INDUS\n",
       "264   8.10  7.206     13.0   3.97\n",
       "263  11.25  7.327     13.0   3.97\n",
       "58    6.86  6.145     19.7   5.13\n",
       "307   7.53  6.849     18.4   2.18\n",
       "211  23.98  5.404     18.6  10.59"
      ]
     },
     "execution_count": 15,
     "metadata": {},
     "output_type": "execute_result"
    }
   ],
   "source": [
    "X[['LSTAT', 'RM', 'PTRATIO', 'INDUS']].sample(5)"
   ]
  },
  {
   "cell_type": "code",
   "execution_count": 16,
   "metadata": {},
   "outputs": [
    {
     "name": "stdout",
     "output_type": "stream",
     "text": [
      "R2 score: 0.68\n",
      "[[-0.57571066  4.51517866 -0.93512212  0.00756681]]\n",
      "prediction: [[20.24195667]]\n",
      "MEDV    24.4\n",
      "Name: 208, dtype: float64\n"
     ]
    }
   ],
   "source": [
    "import numpy as np\n",
    "from sklearn.linear_model import LinearRegression\n",
    "\n",
    "X_features = X[['LSTAT', 'RM', 'PTRATIO', 'INDUS']]\n",
    "\n",
    "reg = LinearRegression().fit(X_features, y)\n",
    "\n",
    "#The coefficient R^2\n",
    "r2_score = reg.score(X_features, y)\n",
    "print(\"R2 score: {}\".format(round(r2_score,2)))\n",
    "\n",
    "print(reg.coef_)\n",
    "reg.intercept_ \n",
    "\n",
    "#Sample pr\n",
    "print(\"prediction: {}\".format(reg.predict(np.array([[14.66,6.064,18.6,10.59]]))))\n",
    "print(y.iloc[208])"
   ]
  },
  {
   "cell_type": "code",
   "execution_count": 17,
   "metadata": {},
   "outputs": [
    {
     "name": "stdout",
     "output_type": "stream",
     "text": [
      "Train RMSE: 5.21\n"
     ]
    }
   ],
   "source": [
    "#RMSE\n",
    "from sklearn.metrics import mean_squared_error\n",
    "from math import sqrt\n",
    "\n",
    "rmse = sqrt(mean_squared_error(y, reg.predict(X_features)))\n",
    "print(\"Train RMSE: {}\".format(round(rmse,2)))"
   ]
  },
  {
   "cell_type": "code",
   "execution_count": 18,
   "metadata": {},
   "outputs": [
    {
     "data": {
      "image/png": "[encoded data removed]",
      "text/plain": [
       "<matplotlib.figure.Figure at 0x122b0a390>"
      ]
     },
     "metadata": {},
     "output_type": "display_data"
    }
   ],
   "source": [
    "import warnings\n",
    "warnings.filterwarnings('ignore')\n",
    "import matplotlib.pyplot as plt\n",
    "\n",
    "plt.figure(figsize=(20, 5))\n",
    "plt.plot(reg.predict(X_features))\n",
    "plt.plot(y)\n",
    "plt.ylabel('MEDV')\n",
    "plt.xlabel('Data instances')\n",
    "\n",
    "axes= plt.axes()\n",
    "axes.set_xticks(list(range(0, int(X_features.shape[0]), 50)))\n",
    "axes.set_yticks(list(range(0, int(max(y['MEDV'])), 5)))\n",
    "\n",
    "plt.show()"
   ]
  },
  {
   "cell_type": "markdown",
   "metadata": {},
   "source": [
    "### 3. Try 70/30 and 90/10 train/test splits (70% of the data for training - 30% for testing, then 90% for training - 10% for testing)\n",
    "Score and plot. How do your metrics change? What does this tell us about the size of training/testing splits?"
   ]
  },
  {
   "cell_type": "code",
   "execution_count": 19,
   "metadata": {
    "collapsed": true
   },
   "outputs": [],
   "source": [
    "from sklearn.model_selection import train_test_split\n",
    "X_train_70, X_test_30, y_train_70, y_test_30 = train_test_split(X_features, y, test_size = 0.30, random_state=1234)"
   ]
  },
  {
   "cell_type": "code",
   "execution_count": 26,
   "metadata": {
    "collapsed": true
   },
   "outputs": [],
   "source": [
    "X_train_90, X_test_10, y_train_90, y_test_10 = train_test_split(X_features, y, test_size = 0.10, random_state=1234)"
   ]
  },
  {
   "cell_type": "markdown",
   "metadata": {},
   "source": [
    "#### 3.1 70/30 data split"
   ]
  },
  {
   "cell_type": "code",
   "execution_count": 21,
   "metadata": {},
   "outputs": [
    {
     "name": "stdout",
     "output_type": "stream",
     "text": [
      "R2 score: 0.65\n",
      "coef_: [[-0.62270688  3.65690709 -0.97177524 -0.02154989]]\n",
      "intercept_: [25.59786647]\n",
      "\n",
      "Sample instance: [14.66, 6.064, 18.6, 10.59]\n",
      "prediction: 20.34\n",
      "actual value: 24.4\n"
     ]
    }
   ],
   "source": [
    "import numpy as np\n",
    "from sklearn.linear_model import LinearRegression\n",
    "\n",
    "# X_features = X_train_70[['LSTAT', 'RM', 'PTRATIO', 'INDUS']]\n",
    "# y = y_train_70\n",
    "\n",
    "reg = LinearRegression().fit(X_train_70, y_train_70)\n",
    "\n",
    "#The coefficient R^2\n",
    "r2_score = reg.score(X_train_70, y_train_70)\n",
    "print(\"R2 score: {}\".format(round(r2_score,2)))\n",
    "\n",
    "print(\"coef_: {}\".format(reg.coef_))\n",
    "print(\"intercept_: {}\".format(reg.intercept_ ))\n",
    "\n",
    "#Sample pr\n",
    "sample_feature_vector = [14.66,6.064,18.6,10.59]\n",
    "print(\"\\nSample instance: {}\".format(sample_feature_vector))\n",
    "print(\"prediction: {}\".format(round(reg.predict(np.array([sample_feature_vector]))[0][0],2)))\n",
    "print(\"actual value: {}\".format(list(y.iloc[208])[0]))"
   ]
  },
  {
   "cell_type": "code",
   "execution_count": 22,
   "metadata": {},
   "outputs": [
    {
     "name": "stdout",
     "output_type": "stream",
     "text": [
      "Train RMSE: 5.31\n",
      "Test RMSE: 5.05\n",
      "r2_score: 0.72\n"
     ]
    }
   ],
   "source": [
    "from sklearn.metrics import r2_score\n",
    "# X_train_70, X_test_30, y_train_70, y_test_30\n",
    "\n",
    "rmse_train_split70 = sqrt(mean_squared_error(y_train_70, reg.predict(X_train_70)))\n",
    "print(\"Train RMSE: {}\".format(round(rmse_train_split70,2)))\n",
    "\n",
    "rmse_test_split30 = sqrt(mean_squared_error(y_test_30, reg.predict(X_test_30)))\n",
    "print(\"Test RMSE: {}\".format(round(rmse_test_split30,2)))\n",
    "\n",
    "# Explained variance score: 1 is perfect prediction\n",
    "print('r2_score: %.2f' % r2_score(y_test_30, reg.predict(X_test_30)))\n"
   ]
  },
  {
   "cell_type": "markdown",
   "metadata": {
    "collapsed": true
   },
   "source": [
    "#### 3.2 90/10 data split"
   ]
  },
  {
   "cell_type": "code",
   "execution_count": 23,
   "metadata": {},
   "outputs": [
    {
     "name": "stdout",
     "output_type": "stream",
     "text": [
      "R2 score: 0.67\n",
      "coef_: [[-5.83130137e-01  4.34437600e+00 -9.32454940e-01 -1.44780865e-03]]\n",
      "intercept_: [19.90507766]\n",
      "\n",
      "Sample instance: [14.66, 6.064, 18.6, 10.59]\n",
      "prediction: 20.34\n",
      "actual value: 24.4\n"
     ]
    }
   ],
   "source": [
    "import numpy as np\n",
    "from sklearn.linear_model import LinearRegression\n",
    "\n",
    "# X_features = X_train_90[['LSTAT', 'RM', 'PTRATIO', 'INDUS']]\n",
    "# y = y_train_10\n",
    "\n",
    "reg = LinearRegression().fit(X_train_90, y_train_90)\n",
    "\n",
    "#The coefficient R^2\n",
    "r2_score = reg.score(X_train_90, y_train_90)\n",
    "print(\"R2 score: {}\".format(round(r2_score,2)))\n",
    "\n",
    "print(\"coef_: {}\".format(reg.coef_))\n",
    "print(\"intercept_: {}\".format(reg.intercept_ ))\n",
    "\n",
    "#Sample pr\n",
    "sample_feature_vector = [14.66,6.064,18.6,10.59]\n",
    "print(\"\\nSample instance: {}\".format(sample_feature_vector))\n",
    "print(\"prediction: {}\".format(round(reg.predict(np.array([sample_feature_vector]))[0][0],2)))\n",
    "print(\"actual value: {}\".format(list(y.iloc[208])[0]))"
   ]
  },
  {
   "cell_type": "code",
   "execution_count": 32,
   "metadata": {},
   "outputs": [
    {
     "name": "stdout",
     "output_type": "stream",
     "text": [
      "Train RMSE: 5.36\n",
      "Test RMSE: 3.64\n",
      "r2_score: 0.79\n"
     ]
    }
   ],
   "source": [
    "# X_train_90, X_test_10, y_train_90, y_test_10\n",
    "\n",
    "rmse_train_split90 = sqrt(mean_squared_error(y_train_90, reg.predict(X_train_90)))\n",
    "print(\"Train RMSE: {}\".format(round(rmse_train_split90,2)))\n",
    "\n",
    "rmse_test_split10 = sqrt(mean_squared_error(y_test_10, reg.predict(X_test_10)))\n",
    "print(\"Test RMSE: {}\".format(round(rmse_test_split10,2)))\n",
    "\n",
    "# Explained variance score: 1 is perfect prediction\n",
    "from sklearn.metrics import r2_score\n",
    "print('r2_score: %.2f' % r2_score(y_test_10, reg.predict(X_test_10)))\n"
   ]
  },
  {
   "cell_type": "markdown",
   "metadata": {},
   "source": [
    "### 4. Use k-fold cross validation varying the number of folds from 5 to 10\n",
    "What seems optimal? How do your scores change? What is the variance like? Try different folds to get a sense of how this impacts your score. What are the tradeoffs associated with choosing the number of folds?"
   ]
  },
  {
   "cell_type": "code",
   "execution_count": null,
   "metadata": {},
   "outputs": [],
   "source": [
    "from sklearn.model_selection import cross_val_score\n",
    "X_features = X[['LSTAT', 'RM', 'PTRATIO', 'INDUS']]\n",
    "\n",
    "for cv_val in range(5, 11, 1):    \n",
    "        clf = LinearRegression()\n",
    "        cv = cross_val_score(clf, X_features, y, cv=cv_val, scoring='r2', )\n",
    "        print(\"cv_val: {}, mean-r2: {}\".format(cv_val, round(cv.mean(),2)))\n",
    "        print(cv)"
   ]
  },
  {
   "cell_type": "code",
   "execution_count": null,
   "metadata": {
    "collapsed": true
   },
   "outputs": [],
   "source": [
    "# from sklearn.metrics import accuracy_score"
   ]
  },
  {
   "cell_type": "code",
   "execution_count": null,
   "metadata": {
    "collapsed": true
   },
   "outputs": [],
   "source": []
  },
  {
   "cell_type": "markdown",
   "metadata": {},
   "source": [
    "# KNN Practice"
   ]
  },
  {
   "cell_type": "code",
   "execution_count": 33,
   "metadata": {
    "collapsed": true
   },
   "outputs": [],
   "source": [
    "# Read the iris data into a DataFrame\n",
    "url = 'http://archive.ics.uci.edu/ml/machine-learning-databases/iris/iris.data'\n",
    "\n",
    "col_names = ['sepal_length', 'sepal_width', 'petal_length', 'petal_width', 'species']\n",
    "iris = pd.read_csv(url, header=None, names=col_names)"
   ]
  },
  {
   "cell_type": "code",
   "execution_count": 34,
   "metadata": {},
   "outputs": [
    {
     "data": {
      "text/html": [
       "<div>\n",
       "<style>\n",
       "    .dataframe thead tr:only-child th {\n",
       "        text-align: right;\n",
       "    }\n",
       "\n",
       "    .dataframe thead th {\n",
       "        text-align: left;\n",
       "    }\n",
       "\n",
       "    .dataframe tbody tr th {\n",
       "        vertical-align: top;\n",
       "    }\n",
       "</style>\n",
       "<table border=\"1\" class=\"dataframe\">\n",
       "  <thead>\n",
       "    <tr style=\"text-align: right;\">\n",
       "      <th></th>\n",
       "      <th>sepal_length</th>\n",
       "      <th>sepal_width</th>\n",
       "      <th>petal_length</th>\n",
       "      <th>petal_width</th>\n",
       "      <th>species</th>\n",
       "    </tr>\n",
       "  </thead>\n",
       "  <tbody>\n",
       "    <tr>\n",
       "      <th>0</th>\n",
       "      <td>5.1</td>\n",
       "      <td>3.5</td>\n",
       "      <td>1.4</td>\n",
       "      <td>0.2</td>\n",
       "      <td>Iris-setosa</td>\n",
       "    </tr>\n",
       "    <tr>\n",
       "      <th>1</th>\n",
       "      <td>4.9</td>\n",
       "      <td>3.0</td>\n",
       "      <td>1.4</td>\n",
       "      <td>0.2</td>\n",
       "      <td>Iris-setosa</td>\n",
       "    </tr>\n",
       "    <tr>\n",
       "      <th>2</th>\n",
       "      <td>4.7</td>\n",
       "      <td>3.2</td>\n",
       "      <td>1.3</td>\n",
       "      <td>0.2</td>\n",
       "      <td>Iris-setosa</td>\n",
       "    </tr>\n",
       "    <tr>\n",
       "      <th>3</th>\n",
       "      <td>4.6</td>\n",
       "      <td>3.1</td>\n",
       "      <td>1.5</td>\n",
       "      <td>0.2</td>\n",
       "      <td>Iris-setosa</td>\n",
       "    </tr>\n",
       "    <tr>\n",
       "      <th>4</th>\n",
       "      <td>5.0</td>\n",
       "      <td>3.6</td>\n",
       "      <td>1.4</td>\n",
       "      <td>0.2</td>\n",
       "      <td>Iris-setosa</td>\n",
       "    </tr>\n",
       "  </tbody>\n",
       "</table>\n",
       "</div>"
      ],
      "text/plain": [
       "   sepal_length  sepal_width  petal_length  petal_width      species\n",
       "0           5.1          3.5           1.4          0.2  Iris-setosa\n",
       "1           4.9          3.0           1.4          0.2  Iris-setosa\n",
       "2           4.7          3.2           1.3          0.2  Iris-setosa\n",
       "3           4.6          3.1           1.5          0.2  Iris-setosa\n",
       "4           5.0          3.6           1.4          0.2  Iris-setosa"
      ]
     },
     "execution_count": 34,
     "metadata": {},
     "output_type": "execute_result"
    }
   ],
   "source": [
    "iris.head()\n"
   ]
  },
  {
   "cell_type": "code",
   "execution_count": 35,
   "metadata": {
    "collapsed": true
   },
   "outputs": [],
   "source": [
    "\n",
    "# Increase the default figure and font sizes for easier viewing\n",
    "plt.rcParams['figure.figsize'] = (6, 4)\n",
    "plt.rcParams['font.size'] = 14"
   ]
  },
  {
   "cell_type": "code",
   "execution_count": 36,
   "metadata": {
    "collapsed": true
   },
   "outputs": [],
   "source": [
    "# Create a custom colormap\n",
    "from matplotlib.colors import ListedColormap\n",
    "\n",
    "cmap_bold = ListedColormap(['#FF0000', '#00FF00', '#0000FF'])"
   ]
  },
  {
   "cell_type": "code",
   "execution_count": 37,
   "metadata": {},
   "outputs": [
    {
     "data": {
      "text/plain": [
       "'Iris-setosa'"
      ]
     },
     "execution_count": 37,
     "metadata": {},
     "output_type": "execute_result"
    }
   ],
   "source": [
    "iris.species[1]"
   ]
  },
  {
   "cell_type": "code",
   "execution_count": null,
   "metadata": {},
   "outputs": [],
   "source": [
    "iris[iris['species']=='Iris-setosa']"
   ]
  },
  {
   "cell_type": "code",
   "execution_count": 41,
   "metadata": {},
   "outputs": [
    {
     "name": "stdout",
     "output_type": "stream",
     "text": [
      "{'Iris-virginica': 2, 'Iris-setosa': 0, 'Iris-versicolor': 1}\n"
     ]
    },
    {
     "data": {
      "text/plain": [
       "<matplotlib.text.Text at 0x122ff42b0>"
      ]
     },
     "execution_count": 41,
     "metadata": {},
     "output_type": "execute_result"
    },
    {
     "data": {
      "image/png": "[encoded data removed]",
      "text/plain": [
       "<matplotlib.figure.Figure at 0x123521c18>"
      ]
     },
     "metadata": {},
     "output_type": "display_data"
    }
   ],
   "source": [
    "# Map each iris species to a number\n",
    "# Let's use Iris-setosa':0, 'Iris-versicolor':1, 'Iris-virginica':2 and create a column called 'species_num'\n",
    "\n",
    "# Create a scatterplot of PETAL LENGTH versus PETAL WIDTH and color by SPECIES\n",
    "plt.figure(figsize=(20, 5))\n",
    "\n",
    "species_dict = {'Iris-setosa':0, 'Iris-versicolor':1, 'Iris-virginica':2}\n",
    "print(d)\n",
    "\n",
    "plt.subplot(1,4,i+1)\n",
    "plt.scatter(iris['petal_length'], iris['petal_width'])\n",
    "plt.title(\"petal_length vs petal_width\")\n",
    "plt.xlabel('petal_length')\n",
    "plt.ylabel('petal_width')\n",
    "    "
   ]
  },
  {
   "cell_type": "code",
   "execution_count": 44,
   "metadata": {},
   "outputs": [
    {
     "ename": "SyntaxError",
     "evalue": "invalid syntax (<ipython-input-44-5b415c00b61e>, line 2)",
     "output_type": "error",
     "traceback": [
      "\u001b[0;36m  File \u001b[0;32m\"<ipython-input-44-5b415c00b61e>\"\u001b[0;36m, line \u001b[0;32m2\u001b[0m\n\u001b[0;31m    iris[\"species\"].apply(lambda x: species_dict[x]),axis=1)\u001b[0m\n\u001b[0m                                                           ^\u001b[0m\n\u001b[0;31mSyntaxError\u001b[0m\u001b[0;31m:\u001b[0m invalid syntax\n"
     ]
    }
   ],
   "source": [
    "# iris[\"species\"][:5]\n",
    "iris[\"species\"].apply(lambda x: species_dict[x]),axis=1)"
   ]
  },
  {
   "cell_type": "code",
   "execution_count": null,
   "metadata": {},
   "outputs": [],
   "source": [
    "import matplotlib.pyplot as plt\n",
    "from numpy.random import random\n",
    "\n",
    "colors = ['b', 'c', 'y', 'm', 'r']\n",
    "\n",
    "lo = plt.scatter(random(10), random(10), marker='x', color=colors[0])\n",
    "ll = plt.scatter(random(10), random(10), marker='o', color=colors[0])\n",
    "l  = plt.scatter(random(10), random(10), marker='o', color=colors[1])\n",
    "a  = plt.scatter(random(10), random(10), marker='o', color=colors[2])\n",
    "h  = plt.scatter(random(10), random(10), marker='o', color=colors[3])\n",
    "hh = plt.scatter(random(10), random(10), marker='o', color=colors[4])\n",
    "ho = plt.scatter(random(10), random(10), marker='x', color=colors[4])\n",
    "\n",
    "plt.legend((lo, ll, l, a, h, hh, ho),\n",
    "           ('Low Outlier', 'LoLo', 'Lo', 'Average', 'Hi', 'HiHi', 'High Outlier'),\n",
    "           scatterpoints=1,\n",
    "           loc='lower left',\n",
    "           ncol=3,\n",
    "           fontsize=8)\n",
    "\n",
    "plt.show()"
   ]
  },
  {
   "cell_type": "code",
   "execution_count": null,
   "metadata": {},
   "outputs": [],
   "source": [
    "# Increase the default figure and font sizes for easier viewing\n",
    "plt.rcParams['figure.figsize'] = (6, 4)\n",
    "plt.rcParams['font.size'] = 14\n",
    "\n",
    "# Create a scatterplot of SEPAL LENGTH versus SEPAL WIDTH and color by SPECIES\n",
    "\n",
    "plt.subplot(1,4,i+1)\n",
    "plt.scatter(iris['sepal_length'], iris['sepal_width'])\n",
    "plt.title(col)\n",
    "plt.xlabel(col)\n",
    "plt.ylabel('MEDV')\n"
   ]
  },
  {
   "cell_type": "markdown",
   "metadata": {},
   "source": [
    "## KNN Classification of the Iris Dataset"
   ]
  },
  {
   "cell_type": "markdown",
   "metadata": {},
   "source": [
    "### Create your feature matrix \"X\"\n",
    "This will be all species measurements (sepal length, petal width, etc...)"
   ]
  },
  {
   "cell_type": "code",
   "execution_count": null,
   "metadata": {
    "collapsed": true
   },
   "outputs": [],
   "source": []
  },
  {
   "cell_type": "markdown",
   "metadata": {},
   "source": [
    "### Create your target vector \"y\"\n",
    "This will be the species type."
   ]
  },
  {
   "cell_type": "code",
   "execution_count": null,
   "metadata": {
    "collapsed": true
   },
   "outputs": [],
   "source": []
  },
  {
   "cell_type": "markdown",
   "metadata": {},
   "source": [
    "### Make Use of Train-Test-Split\n",
    "Split your data in to train and test sets."
   ]
  },
  {
   "cell_type": "code",
   "execution_count": null,
   "metadata": {
    "collapsed": true
   },
   "outputs": [],
   "source": []
  },
  {
   "cell_type": "markdown",
   "metadata": {},
   "source": [
    "### Import KNN From `scikit-learn` and Instatiate a Model With One Neighbor"
   ]
  },
  {
   "cell_type": "code",
   "execution_count": null,
   "metadata": {
    "collapsed": true
   },
   "outputs": [],
   "source": []
  },
  {
   "cell_type": "markdown",
   "metadata": {},
   "source": [
    "### Check the Accuracy\n",
    "Train your model using the training set then use the test set to determine the accuracy"
   ]
  },
  {
   "cell_type": "code",
   "execution_count": null,
   "metadata": {
    "collapsed": true
   },
   "outputs": [],
   "source": []
  },
  {
   "cell_type": "markdown",
   "metadata": {},
   "source": [
    "### Create a Model With Five Neighbors. Did it Improve?"
   ]
  },
  {
   "cell_type": "code",
   "execution_count": null,
   "metadata": {
    "collapsed": true
   },
   "outputs": [],
   "source": []
  },
  {
   "cell_type": "markdown",
   "metadata": {},
   "source": [
    "### Create a Looped Function That Will Check All Levels of Various Neighbors and Calculate the Accuracy"
   ]
  },
  {
   "cell_type": "code",
   "execution_count": null,
   "metadata": {
    "collapsed": true
   },
   "outputs": [],
   "source": []
  },
  {
   "cell_type": "markdown",
   "metadata": {},
   "source": [
    "### Bonus: According to `scikit-learn` Documentation, What is `knn.predict_proba(X_new)` Going to Do?"
   ]
  },
  {
   "cell_type": "code",
   "execution_count": null,
   "metadata": {
    "collapsed": true
   },
   "outputs": [],
   "source": []
  },
  {
   "cell_type": "markdown",
   "metadata": {},
   "source": [
    "## Enrichment\n",
    "_Everything beyond this point is enrichment and examples using Statsmodels for linear regression._"
   ]
  },
  {
   "cell_type": "markdown",
   "metadata": {},
   "source": [
    "### Example: Using the Statsmodels Formula\n",
    "\n",
    "Adapt the formula example using your metrics. We will review this implementation in class. Here is a reference to consider. The workflow is the same, but the syntax is a little different. We want to get accustomed to the formula syntax because we will be using them a lot more with regressions. The results should be comparable to scikit-learn's regression models."
   ]
  },
  {
   "cell_type": "code",
   "execution_count": null,
   "metadata": {},
   "outputs": [],
   "source": [
    "# First, format our data in a DataFrame\n",
    "\n",
    "df = pd.DataFrame(boston.data, columns=boston.feature_names)\n",
    "df['MEDV'] = boston.target\n",
    "df.head()"
   ]
  },
  {
   "cell_type": "code",
   "execution_count": null,
   "metadata": {},
   "outputs": [],
   "source": [
    "# Set up our new statsmodel.formula handling model\n",
    "import statsmodels.formula.api as smf\n",
    "\n",
    "# You can easily swap these out to test multiple versions/different formulas\n",
    "formulas = {\n",
    "    \"case1\": \"MEDV ~ RM + LSTAT + RAD + TAX + NOX + INDUS + CRIM + ZN - 1\", # - 1 = remove intercept\n",
    "    \"case2\": \"MEDV ~ NOX + RM\",\n",
    "    \"case3\": \"MEDV ~ RAD + TAX\"\n",
    "}\n",
    "\n",
    "model = smf.ols(formula=formulas['case1'], data=df)\n",
    "result = model.fit()\n",
    "\n",
    "result.summary()"
   ]
  },
  {
   "cell_type": "markdown",
   "metadata": {},
   "source": [
    "### Bonus Challenge #1:\n",
    "\n",
    "Can you optimize your R2, selecting the best features and using either test-train split or k-folds?"
   ]
  },
  {
   "cell_type": "code",
   "execution_count": null,
   "metadata": {
    "collapsed": true
   },
   "outputs": [],
   "source": []
  },
  {
   "cell_type": "markdown",
   "metadata": {},
   "source": [
    "### Bonus Challenge #2:\n",
    "\n",
    "Given a combination of predictors, can you find another response variable that can be accurately predicted through the exploration of different predictors in this data set?\n",
    "\n",
    "_Tip: Check out pairplots, coefficients, and Pearson scores._"
   ]
  },
  {
   "cell_type": "code",
   "execution_count": null,
   "metadata": {},
   "outputs": [],
   "source": [
    "# Check out variable relations\n",
    "import seaborn as sns\n",
    "\n",
    "sns.pairplot(X);"
   ]
  },
  {
   "cell_type": "code",
   "execution_count": null,
   "metadata": {
    "collapsed": true
   },
   "outputs": [],
   "source": [
    "# Check out Pearson scores\n"
   ]
  },
  {
   "cell_type": "markdown",
   "metadata": {},
   "source": [
    "## Demo: Patsy"
   ]
  },
  {
   "cell_type": "code",
   "execution_count": null,
   "metadata": {
    "collapsed": true
   },
   "outputs": [],
   "source": [
    "import patsy\n",
    "\n",
    "# Add response to the core DataFrame\n",
    "df['MEDV'] = y"
   ]
  },
  {
   "cell_type": "code",
   "execution_count": null,
   "metadata": {
    "collapsed": true
   },
   "outputs": [],
   "source": [
    "from sklearn.model_selection import train_test_split #If you didn't import it earlier, do so now\n",
    "\n",
    "# Easily change your variable predictors without reslicing your DataFrame\n",
    "y, X = patsy.dmatrices(\"MEDV ~ AGE + RM\", data=df, return_type=\"dataframe\")\n",
    "\n",
    "X_train, X_test, y_train, y_test = train_test_split(X, y, train_size=.7)\n"
   ]
  },
  {
   "cell_type": "code",
   "execution_count": null,
   "metadata": {},
   "outputs": [],
   "source": [
    "from sklearn import metrics\n",
    "from sklearn.linear_model import LinearRegression\n",
    "\n",
    "# Rerun your model, iteratively changing your variables and train_size from the previous cell\n",
    "\n",
    "lm = LinearRegression()\n",
    "model = lm.fit(X_train, y_train)\n",
    "\n",
    "predictions = model.predict(X_test)\n",
    "print(\"R^2 Score: {}\".format(metrics.r2_score(y_test, predictions)))"
   ]
  },
  {
   "cell_type": "code",
   "execution_count": null,
   "metadata": {
    "collapsed": true
   },
   "outputs": [],
   "source": []
  }
 ],
 "metadata": {
  "anaconda-cloud": {},
  "kernelspec": {
   "display_name": "Python [default]",
   "language": "python",
   "name": "python3"
  },
  "language_info": {
   "codemirror_mode": {
    "name": "ipython",
    "version": 3
   },
   "file_extension": ".py",
   "mimetype": "text/x-python",
   "name": "python",
   "nbconvert_exporter": "python",
   "pygments_lexer": "ipython3",
   "version": "3.5.2"
  }
 },
 "nbformat": 4,
 "nbformat_minor": 1
}
